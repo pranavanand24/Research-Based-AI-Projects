{
  "cells": [
    {
      "cell_type": "markdown",
      "metadata": {
        "id": "view-in-github",
        "colab_type": "text"
      },
      "source": [
        "<a href=\"https://colab.research.google.com/github/pranavanand24/AI-Hobby-Projects/blob/main/Identifying_Age_Related_Conditions.ipynb\" target=\"_parent\"><img src=\"https://colab.research.google.com/assets/colab-badge.svg\" alt=\"Open In Colab\"/></a>"
      ]
    },
    {
      "cell_type": "code",
      "source": [
        "from google.colab import drive\n",
        "drive.mount('/content/drive')"
      ],
      "metadata": {
        "colab": {
          "base_uri": "https://localhost:8080/"
        },
        "id": "EYNfJhpOC9x_",
        "outputId": "1937093c-346f-4a75-accb-ac2c3c44caa1"
      },
      "id": "EYNfJhpOC9x_",
      "execution_count": 1,
      "outputs": [
        {
          "output_type": "stream",
          "name": "stdout",
          "text": [
            "Mounted at /content/drive\n"
          ]
        }
      ]
    },
    {
      "cell_type": "markdown",
      "id": "79fdf0d2",
      "metadata": {
        "papermill": {
          "duration": 0.01002,
          "end_time": "2023-06-05T10:06:46.131509",
          "exception": false,
          "start_time": "2023-06-05T10:06:46.121489",
          "status": "completed"
        },
        "tags": [],
        "id": "79fdf0d2"
      },
      "source": [
        "## **Identifying Age-Related Conditions**"
      ]
    },
    {
      "cell_type": "markdown",
      "id": "48452665",
      "metadata": {
        "papermill": {
          "duration": 0.009462,
          "end_time": "2023-06-05T10:06:46.150240",
          "exception": false,
          "start_time": "2023-06-05T10:06:46.140778",
          "status": "completed"
        },
        "tags": [],
        "id": "48452665"
      },
      "source": [
        "In this notebook we will try to how to train a model using on the ICR - Identifying Age-Related Conditions dataset available. The goal of the model is to predict if a person has one or more of any of three medical conditions or none.\n",
        "\n",
        "Roughly, the code will look as follows:\n",
        "\n",
        "```\n",
        "import tensorflow_decision_forests as tfdf\n",
        "import pandas as pd\n",
        "\n",
        "dataset = pd.read_csv(\"project/dataset.csv\")\n",
        "tf_dataset = tfdf.keras.pd_dataframe_to_tf_dataset(dataset, label=\"my_label\")\n",
        "\n",
        "model = tfdf.keras.RandomForestModel()\n",
        "model.fit(tf_dataset)\n",
        "\n",
        "print(model.summary())\n",
        "```"
      ]
    },
    {
      "cell_type": "markdown",
      "id": "91c21804",
      "metadata": {
        "papermill": {
          "duration": 0.008785,
          "end_time": "2023-06-05T10:06:46.168104",
          "exception": false,
          "start_time": "2023-06-05T10:06:46.159319",
          "status": "completed"
        },
        "tags": [],
        "id": "91c21804"
      },
      "source": [
        "## Importing the libraries"
      ]
    },
    {
      "cell_type": "code",
      "source": [
        "# Install TensorFlow Decision Forests.\n",
        "!pip3 install tensorflow_decision_forests --upgrade"
      ],
      "metadata": {
        "colab": {
          "base_uri": "https://localhost:8080/",
          "height": 1000
        },
        "id": "mmAv99IJDrp4",
        "outputId": "bdb63d47-c3b5-44a2-d25a-716387ed3bae"
      },
      "id": "mmAv99IJDrp4",
      "execution_count": 3,
      "outputs": [
        {
          "output_type": "stream",
          "name": "stdout",
          "text": [
            "Collecting tensorflow_decision_forests\n",
            "  Downloading tensorflow_decision_forests-1.7.0-cp310-cp310-manylinux_2_17_x86_64.manylinux2014_x86_64.whl (16.8 MB)\n",
            "\u001b[2K     \u001b[90m━━━━━━━━━━━━━━━━━━━━━━━━━━━━━━━━━━━━━━━━\u001b[0m \u001b[32m16.8/16.8 MB\u001b[0m \u001b[31m30.8 MB/s\u001b[0m eta \u001b[36m0:00:00\u001b[0m\n",
            "\u001b[?25hRequirement already satisfied: numpy in /usr/local/lib/python3.10/dist-packages (from tensorflow_decision_forests) (1.23.5)\n",
            "Requirement already satisfied: pandas in /usr/local/lib/python3.10/dist-packages (from tensorflow_decision_forests) (1.5.3)\n",
            "Collecting tensorflow~=2.14.0 (from tensorflow_decision_forests)\n",
            "  Downloading tensorflow-2.14.0-cp310-cp310-manylinux_2_17_x86_64.manylinux2014_x86_64.whl (489.8 MB)\n",
            "\u001b[2K     \u001b[90m━━━━━━━━━━━━━━━━━━━━━━━━━━━━━━━━━━━━━━━━\u001b[0m \u001b[32m489.8/489.8 MB\u001b[0m \u001b[31m1.8 MB/s\u001b[0m eta \u001b[36m0:00:00\u001b[0m\n",
            "\u001b[?25hRequirement already satisfied: six in /usr/local/lib/python3.10/dist-packages (from tensorflow_decision_forests) (1.16.0)\n",
            "Requirement already satisfied: absl-py in /usr/local/lib/python3.10/dist-packages (from tensorflow_decision_forests) (1.4.0)\n",
            "Requirement already satisfied: wheel in /usr/local/lib/python3.10/dist-packages (from tensorflow_decision_forests) (0.41.2)\n",
            "Collecting wurlitzer (from tensorflow_decision_forests)\n",
            "  Downloading wurlitzer-3.0.3-py3-none-any.whl (7.3 kB)\n",
            "Requirement already satisfied: astunparse>=1.6.0 in /usr/local/lib/python3.10/dist-packages (from tensorflow~=2.14.0->tensorflow_decision_forests) (1.6.3)\n",
            "Requirement already satisfied: flatbuffers>=23.5.26 in /usr/local/lib/python3.10/dist-packages (from tensorflow~=2.14.0->tensorflow_decision_forests) (23.5.26)\n",
            "Requirement already satisfied: gast!=0.5.0,!=0.5.1,!=0.5.2,>=0.2.1 in /usr/local/lib/python3.10/dist-packages (from tensorflow~=2.14.0->tensorflow_decision_forests) (0.4.0)\n",
            "Requirement already satisfied: google-pasta>=0.1.1 in /usr/local/lib/python3.10/dist-packages (from tensorflow~=2.14.0->tensorflow_decision_forests) (0.2.0)\n",
            "Requirement already satisfied: h5py>=2.9.0 in /usr/local/lib/python3.10/dist-packages (from tensorflow~=2.14.0->tensorflow_decision_forests) (3.9.0)\n",
            "Requirement already satisfied: libclang>=13.0.0 in /usr/local/lib/python3.10/dist-packages (from tensorflow~=2.14.0->tensorflow_decision_forests) (16.0.6)\n",
            "Collecting ml-dtypes==0.2.0 (from tensorflow~=2.14.0->tensorflow_decision_forests)\n",
            "  Downloading ml_dtypes-0.2.0-cp310-cp310-manylinux_2_17_x86_64.manylinux2014_x86_64.whl (1.0 MB)\n",
            "\u001b[2K     \u001b[90m━━━━━━━━━━━━━━━━━━━━━━━━━━━━━━━━━━━━━━━━\u001b[0m \u001b[32m1.0/1.0 MB\u001b[0m \u001b[31m67.6 MB/s\u001b[0m eta \u001b[36m0:00:00\u001b[0m\n",
            "\u001b[?25hRequirement already satisfied: opt-einsum>=2.3.2 in /usr/local/lib/python3.10/dist-packages (from tensorflow~=2.14.0->tensorflow_decision_forests) (3.3.0)\n",
            "Requirement already satisfied: packaging in /usr/local/lib/python3.10/dist-packages (from tensorflow~=2.14.0->tensorflow_decision_forests) (23.2)\n",
            "Requirement already satisfied: protobuf!=4.21.0,!=4.21.1,!=4.21.2,!=4.21.3,!=4.21.4,!=4.21.5,<5.0.0dev,>=3.20.3 in /usr/local/lib/python3.10/dist-packages (from tensorflow~=2.14.0->tensorflow_decision_forests) (3.20.3)\n",
            "Requirement already satisfied: setuptools in /usr/local/lib/python3.10/dist-packages (from tensorflow~=2.14.0->tensorflow_decision_forests) (67.7.2)\n",
            "Requirement already satisfied: termcolor>=1.1.0 in /usr/local/lib/python3.10/dist-packages (from tensorflow~=2.14.0->tensorflow_decision_forests) (2.3.0)\n",
            "Requirement already satisfied: typing-extensions>=3.6.6 in /usr/local/lib/python3.10/dist-packages (from tensorflow~=2.14.0->tensorflow_decision_forests) (4.5.0)\n",
            "Collecting wrapt<1.15,>=1.11.0 (from tensorflow~=2.14.0->tensorflow_decision_forests)\n",
            "  Downloading wrapt-1.14.1-cp310-cp310-manylinux_2_5_x86_64.manylinux1_x86_64.manylinux_2_17_x86_64.manylinux2014_x86_64.whl (77 kB)\n",
            "\u001b[2K     \u001b[90m━━━━━━━━━━━━━━━━━━━━━━━━━━━━━━━━━━━━━━━━\u001b[0m \u001b[32m77.9/77.9 kB\u001b[0m \u001b[31m9.1 MB/s\u001b[0m eta \u001b[36m0:00:00\u001b[0m\n",
            "\u001b[?25hRequirement already satisfied: tensorflow-io-gcs-filesystem>=0.23.1 in /usr/local/lib/python3.10/dist-packages (from tensorflow~=2.14.0->tensorflow_decision_forests) (0.34.0)\n",
            "Requirement already satisfied: grpcio<2.0,>=1.24.3 in /usr/local/lib/python3.10/dist-packages (from tensorflow~=2.14.0->tensorflow_decision_forests) (1.59.0)\n",
            "Collecting tensorboard<2.15,>=2.14 (from tensorflow~=2.14.0->tensorflow_decision_forests)\n",
            "  Downloading tensorboard-2.14.1-py3-none-any.whl (5.5 MB)\n",
            "\u001b[2K     \u001b[90m━━━━━━━━━━━━━━━━━━━━━━━━━━━━━━━━━━━━━━━━\u001b[0m \u001b[32m5.5/5.5 MB\u001b[0m \u001b[31m100.6 MB/s\u001b[0m eta \u001b[36m0:00:00\u001b[0m\n",
            "\u001b[?25hCollecting tensorflow-estimator<2.15,>=2.14.0 (from tensorflow~=2.14.0->tensorflow_decision_forests)\n",
            "  Downloading tensorflow_estimator-2.14.0-py2.py3-none-any.whl (440 kB)\n",
            "\u001b[2K     \u001b[90m━━━━━━━━━━━━━━━━━━━━━━━━━━━━━━━━━━━━━━━━\u001b[0m \u001b[32m440.7/440.7 kB\u001b[0m \u001b[31m41.1 MB/s\u001b[0m eta \u001b[36m0:00:00\u001b[0m\n",
            "\u001b[?25hCollecting keras<2.15,>=2.14.0 (from tensorflow~=2.14.0->tensorflow_decision_forests)\n",
            "  Downloading keras-2.14.0-py3-none-any.whl (1.7 MB)\n",
            "\u001b[2K     \u001b[90m━━━━━━━━━━━━━━━━━━━━━━━━━━━━━━━━━━━━━━━━\u001b[0m \u001b[32m1.7/1.7 MB\u001b[0m \u001b[31m78.1 MB/s\u001b[0m eta \u001b[36m0:00:00\u001b[0m\n",
            "\u001b[?25hRequirement already satisfied: python-dateutil>=2.8.1 in /usr/local/lib/python3.10/dist-packages (from pandas->tensorflow_decision_forests) (2.8.2)\n",
            "Requirement already satisfied: pytz>=2020.1 in /usr/local/lib/python3.10/dist-packages (from pandas->tensorflow_decision_forests) (2023.3.post1)\n",
            "Requirement already satisfied: google-auth<3,>=1.6.3 in /usr/local/lib/python3.10/dist-packages (from tensorboard<2.15,>=2.14->tensorflow~=2.14.0->tensorflow_decision_forests) (2.17.3)\n",
            "Requirement already satisfied: google-auth-oauthlib<1.1,>=0.5 in /usr/local/lib/python3.10/dist-packages (from tensorboard<2.15,>=2.14->tensorflow~=2.14.0->tensorflow_decision_forests) (1.0.0)\n",
            "Requirement already satisfied: markdown>=2.6.8 in /usr/local/lib/python3.10/dist-packages (from tensorboard<2.15,>=2.14->tensorflow~=2.14.0->tensorflow_decision_forests) (3.5)\n",
            "Requirement already satisfied: requests<3,>=2.21.0 in /usr/local/lib/python3.10/dist-packages (from tensorboard<2.15,>=2.14->tensorflow~=2.14.0->tensorflow_decision_forests) (2.31.0)\n",
            "Requirement already satisfied: tensorboard-data-server<0.8.0,>=0.7.0 in /usr/local/lib/python3.10/dist-packages (from tensorboard<2.15,>=2.14->tensorflow~=2.14.0->tensorflow_decision_forests) (0.7.1)\n",
            "Requirement already satisfied: werkzeug>=1.0.1 in /usr/local/lib/python3.10/dist-packages (from tensorboard<2.15,>=2.14->tensorflow~=2.14.0->tensorflow_decision_forests) (3.0.0)\n",
            "Requirement already satisfied: cachetools<6.0,>=2.0.0 in /usr/local/lib/python3.10/dist-packages (from google-auth<3,>=1.6.3->tensorboard<2.15,>=2.14->tensorflow~=2.14.0->tensorflow_decision_forests) (5.3.1)\n",
            "Requirement already satisfied: pyasn1-modules>=0.2.1 in /usr/local/lib/python3.10/dist-packages (from google-auth<3,>=1.6.3->tensorboard<2.15,>=2.14->tensorflow~=2.14.0->tensorflow_decision_forests) (0.3.0)\n",
            "Requirement already satisfied: rsa<5,>=3.1.4 in /usr/local/lib/python3.10/dist-packages (from google-auth<3,>=1.6.3->tensorboard<2.15,>=2.14->tensorflow~=2.14.0->tensorflow_decision_forests) (4.9)\n",
            "Requirement already satisfied: requests-oauthlib>=0.7.0 in /usr/local/lib/python3.10/dist-packages (from google-auth-oauthlib<1.1,>=0.5->tensorboard<2.15,>=2.14->tensorflow~=2.14.0->tensorflow_decision_forests) (1.3.1)\n",
            "Requirement already satisfied: charset-normalizer<4,>=2 in /usr/local/lib/python3.10/dist-packages (from requests<3,>=2.21.0->tensorboard<2.15,>=2.14->tensorflow~=2.14.0->tensorflow_decision_forests) (3.3.0)\n",
            "Requirement already satisfied: idna<4,>=2.5 in /usr/local/lib/python3.10/dist-packages (from requests<3,>=2.21.0->tensorboard<2.15,>=2.14->tensorflow~=2.14.0->tensorflow_decision_forests) (3.4)\n",
            "Requirement already satisfied: urllib3<3,>=1.21.1 in /usr/local/lib/python3.10/dist-packages (from requests<3,>=2.21.0->tensorboard<2.15,>=2.14->tensorflow~=2.14.0->tensorflow_decision_forests) (2.0.7)\n",
            "Requirement already satisfied: certifi>=2017.4.17 in /usr/local/lib/python3.10/dist-packages (from requests<3,>=2.21.0->tensorboard<2.15,>=2.14->tensorflow~=2.14.0->tensorflow_decision_forests) (2023.7.22)\n",
            "Requirement already satisfied: MarkupSafe>=2.1.1 in /usr/local/lib/python3.10/dist-packages (from werkzeug>=1.0.1->tensorboard<2.15,>=2.14->tensorflow~=2.14.0->tensorflow_decision_forests) (2.1.3)\n",
            "Requirement already satisfied: pyasn1<0.6.0,>=0.4.6 in /usr/local/lib/python3.10/dist-packages (from pyasn1-modules>=0.2.1->google-auth<3,>=1.6.3->tensorboard<2.15,>=2.14->tensorflow~=2.14.0->tensorflow_decision_forests) (0.5.0)\n",
            "Requirement already satisfied: oauthlib>=3.0.0 in /usr/local/lib/python3.10/dist-packages (from requests-oauthlib>=0.7.0->google-auth-oauthlib<1.1,>=0.5->tensorboard<2.15,>=2.14->tensorflow~=2.14.0->tensorflow_decision_forests) (3.2.2)\n",
            "Installing collected packages: wurlitzer, wrapt, tensorflow-estimator, ml-dtypes, keras, tensorboard, tensorflow, tensorflow_decision_forests\n",
            "  Attempting uninstall: wrapt\n",
            "    Found existing installation: wrapt 1.15.0\n",
            "    Uninstalling wrapt-1.15.0:\n",
            "      Successfully uninstalled wrapt-1.15.0\n",
            "  Attempting uninstall: tensorflow-estimator\n",
            "    Found existing installation: tensorflow-estimator 2.13.0\n",
            "    Uninstalling tensorflow-estimator-2.13.0:\n",
            "      Successfully uninstalled tensorflow-estimator-2.13.0\n",
            "  Attempting uninstall: ml-dtypes\n",
            "    Found existing installation: ml-dtypes 0.3.1\n",
            "    Uninstalling ml-dtypes-0.3.1:\n",
            "      Successfully uninstalled ml-dtypes-0.3.1\n",
            "  Attempting uninstall: keras\n",
            "    Found existing installation: keras 2.13.1\n",
            "    Uninstalling keras-2.13.1:\n",
            "      Successfully uninstalled keras-2.13.1\n",
            "  Attempting uninstall: tensorboard\n",
            "    Found existing installation: tensorboard 2.13.0\n",
            "    Uninstalling tensorboard-2.13.0:\n",
            "      Successfully uninstalled tensorboard-2.13.0\n",
            "  Attempting uninstall: tensorflow\n",
            "    Found existing installation: tensorflow 2.13.0\n",
            "    Uninstalling tensorflow-2.13.0:\n",
            "      Successfully uninstalled tensorflow-2.13.0\n",
            "Successfully installed keras-2.14.0 ml-dtypes-0.2.0 tensorboard-2.14.1 tensorflow-2.14.0 tensorflow-estimator-2.14.0 tensorflow_decision_forests-1.7.0 wrapt-1.14.1 wurlitzer-3.0.3\n"
          ]
        },
        {
          "output_type": "display_data",
          "data": {
            "application/vnd.colab-display-data+json": {
              "pip_warning": {
                "packages": [
                  "keras",
                  "ml_dtypes",
                  "tensorboard",
                  "tensorflow",
                  "wrapt"
                ]
              }
            }
          },
          "metadata": {}
        }
      ]
    },
    {
      "cell_type": "code",
      "execution_count": 3,
      "id": "5fa0b36b",
      "metadata": {
        "execution": {
          "iopub.execute_input": "2023-06-05T10:06:46.188776Z",
          "iopub.status.busy": "2023-06-05T10:06:46.188139Z",
          "iopub.status.idle": "2023-06-05T10:06:59.642022Z",
          "shell.execute_reply": "2023-06-05T10:06:59.641084Z"
        },
        "papermill": {
          "duration": 13.467165,
          "end_time": "2023-06-05T10:06:59.644483",
          "exception": false,
          "start_time": "2023-06-05T10:06:46.177318",
          "status": "completed"
        },
        "tags": [],
        "id": "5fa0b36b"
      },
      "outputs": [],
      "source": [
        "import tensorflow as tf\n",
        "import tensorflow_decision_forests as tfdf\n",
        "import pandas as pd\n",
        "import numpy as np\n",
        "import seaborn as sns\n",
        "import matplotlib.pyplot as plt\n",
        "\n",
        "from sklearn.model_selection import KFold"
      ]
    },
    {
      "cell_type": "code",
      "execution_count": 4,
      "id": "f323a06d",
      "metadata": {
        "execution": {
          "iopub.execute_input": "2023-06-05T10:06:59.667673Z",
          "iopub.status.busy": "2023-06-05T10:06:59.665668Z",
          "iopub.status.idle": "2023-06-05T10:06:59.674239Z",
          "shell.execute_reply": "2023-06-05T10:06:59.671914Z"
        },
        "papermill": {
          "duration": 0.022571,
          "end_time": "2023-06-05T10:06:59.676965",
          "exception": false,
          "start_time": "2023-06-05T10:06:59.654394",
          "status": "completed"
        },
        "tags": [],
        "colab": {
          "base_uri": "https://localhost:8080/"
        },
        "id": "f323a06d",
        "outputId": "2ba7da14-4066-4406-d027-a706434b1e41"
      },
      "outputs": [
        {
          "output_type": "stream",
          "name": "stdout",
          "text": [
            "TensorFlow v2.14.0\n",
            "TensorFlow Decision Forests v1.7.0\n"
          ]
        }
      ],
      "source": [
        "print(\"TensorFlow v\" + tf.__version__)\n",
        "print(\"TensorFlow Decision Forests v\" + tfdf.__version__)"
      ]
    },
    {
      "cell_type": "markdown",
      "id": "5a24d982",
      "metadata": {
        "papermill": {
          "duration": 0.009721,
          "end_time": "2023-06-05T10:06:59.696796",
          "exception": false,
          "start_time": "2023-06-05T10:06:59.687075",
          "status": "completed"
        },
        "tags": [],
        "id": "5a24d982"
      },
      "source": [
        "## Load the Dataset"
      ]
    },
    {
      "cell_type": "code",
      "execution_count": 5,
      "id": "3844fe1b",
      "metadata": {
        "execution": {
          "iopub.execute_input": "2023-06-05T10:06:59.718571Z",
          "iopub.status.busy": "2023-06-05T10:06:59.718174Z",
          "iopub.status.idle": "2023-06-05T10:06:59.756319Z",
          "shell.execute_reply": "2023-06-05T10:06:59.754487Z"
        },
        "papermill": {
          "duration": 0.052321,
          "end_time": "2023-06-05T10:06:59.758964",
          "exception": false,
          "start_time": "2023-06-05T10:06:59.706643",
          "status": "completed"
        },
        "tags": [],
        "colab": {
          "base_uri": "https://localhost:8080/"
        },
        "id": "3844fe1b",
        "outputId": "19cc58df-68b7-42c7-abf4-b6af03ed14b7"
      },
      "outputs": [
        {
          "output_type": "stream",
          "name": "stdout",
          "text": [
            "Full train dataset shape is (617, 58)\n"
          ]
        }
      ],
      "source": [
        "dataset_df = pd.read_csv(\"/content/drive/MyDrive/Dataset/Identifying_Age_Related_Conditions/train.csv\")\n",
        "print(\"Full train dataset shape is {}\".format(dataset_df.shape))"
      ]
    },
    {
      "cell_type": "markdown",
      "id": "0ba79e9d",
      "metadata": {
        "papermill": {
          "duration": 0.009865,
          "end_time": "2023-06-05T10:06:59.779209",
          "exception": false,
          "start_time": "2023-06-05T10:06:59.769344",
          "status": "completed"
        },
        "tags": [],
        "id": "0ba79e9d"
      },
      "source": [
        "The data is composed of 58 columns and 617 entries. We can see all 58 dimensions(results will be truncated since the number of columns is big) of our dataset by printing out the first 5 entries using the following code:"
      ]
    },
    {
      "cell_type": "code",
      "execution_count": 6,
      "id": "6b6fb66d",
      "metadata": {
        "execution": {
          "iopub.execute_input": "2023-06-05T10:06:59.801703Z",
          "iopub.status.busy": "2023-06-05T10:06:59.801275Z",
          "iopub.status.idle": "2023-06-05T10:06:59.853526Z",
          "shell.execute_reply": "2023-06-05T10:06:59.852210Z"
        },
        "papermill": {
          "duration": 0.066436,
          "end_time": "2023-06-05T10:06:59.855837",
          "exception": false,
          "start_time": "2023-06-05T10:06:59.789401",
          "status": "completed"
        },
        "tags": [],
        "colab": {
          "base_uri": "https://localhost:8080/",
          "height": 255
        },
        "id": "6b6fb66d",
        "outputId": "f31a5069-b0cc-44c7-fd4d-f869ad4785f5"
      },
      "outputs": [
        {
          "output_type": "execute_result",
          "data": {
            "text/plain": [
              "             Id        AB          AF          AH         AM        AR  \\\n",
              "0  000ff2bfdfe9  0.209377  3109.03329   85.200147  22.394407  8.138688   \n",
              "1  007255e47698  0.145282   978.76416   85.200147  36.968889  8.138688   \n",
              "2  013f2bd269f5  0.470030  2635.10654   85.200147  32.360553  8.138688   \n",
              "3  043ac50845d5  0.252107  3819.65177  120.201618  77.112203  8.138688   \n",
              "4  044fb8a146ec  0.380297  3733.04844   85.200147  14.103738  8.138688   \n",
              "\n",
              "         AX        AY         AZ          BC  ...        FL        FR  \\\n",
              "0  0.699861  0.025578   9.812214    5.555634  ...  7.298162   1.73855   \n",
              "1  3.632190  0.025578  13.517790    1.229900  ...  0.173229   0.49706   \n",
              "2  6.732840  0.025578  12.824570    1.229900  ...  7.709560   0.97556   \n",
              "3  3.685344  0.025578  11.053708    1.229900  ...  6.122162   0.49706   \n",
              "4  3.942255  0.054810   3.396778  102.151980  ...  8.153058  48.50134   \n",
              "\n",
              "         FS         GB          GE            GF         GH         GI  \\\n",
              "0  0.094822  11.339138   72.611063   2003.810319  22.136229  69.834944   \n",
              "1  0.568932   9.292698   72.611063  27981.562750  29.135430  32.131996   \n",
              "2  1.198821  37.077772   88.609437  13676.957810  28.022851  35.192676   \n",
              "3  0.284466  18.529584   82.416803   2094.262452  39.948656  90.493248   \n",
              "4  0.121914  16.408728  146.109943   8524.370502  45.381316  36.262628   \n",
              "\n",
              "          GL  Class  \n",
              "0   0.120343      1  \n",
              "1  21.978000      0  \n",
              "2   0.196941      0  \n",
              "3   0.155829      0  \n",
              "4   0.096614      1  \n",
              "\n",
              "[5 rows x 58 columns]"
            ],
            "text/html": [
              "\n",
              "  <div id=\"df-3cd72579-e805-4551-996a-eef98461b3bd\" class=\"colab-df-container\">\n",
              "    <div>\n",
              "<style scoped>\n",
              "    .dataframe tbody tr th:only-of-type {\n",
              "        vertical-align: middle;\n",
              "    }\n",
              "\n",
              "    .dataframe tbody tr th {\n",
              "        vertical-align: top;\n",
              "    }\n",
              "\n",
              "    .dataframe thead th {\n",
              "        text-align: right;\n",
              "    }\n",
              "</style>\n",
              "<table border=\"1\" class=\"dataframe\">\n",
              "  <thead>\n",
              "    <tr style=\"text-align: right;\">\n",
              "      <th></th>\n",
              "      <th>Id</th>\n",
              "      <th>AB</th>\n",
              "      <th>AF</th>\n",
              "      <th>AH</th>\n",
              "      <th>AM</th>\n",
              "      <th>AR</th>\n",
              "      <th>AX</th>\n",
              "      <th>AY</th>\n",
              "      <th>AZ</th>\n",
              "      <th>BC</th>\n",
              "      <th>...</th>\n",
              "      <th>FL</th>\n",
              "      <th>FR</th>\n",
              "      <th>FS</th>\n",
              "      <th>GB</th>\n",
              "      <th>GE</th>\n",
              "      <th>GF</th>\n",
              "      <th>GH</th>\n",
              "      <th>GI</th>\n",
              "      <th>GL</th>\n",
              "      <th>Class</th>\n",
              "    </tr>\n",
              "  </thead>\n",
              "  <tbody>\n",
              "    <tr>\n",
              "      <th>0</th>\n",
              "      <td>000ff2bfdfe9</td>\n",
              "      <td>0.209377</td>\n",
              "      <td>3109.03329</td>\n",
              "      <td>85.200147</td>\n",
              "      <td>22.394407</td>\n",
              "      <td>8.138688</td>\n",
              "      <td>0.699861</td>\n",
              "      <td>0.025578</td>\n",
              "      <td>9.812214</td>\n",
              "      <td>5.555634</td>\n",
              "      <td>...</td>\n",
              "      <td>7.298162</td>\n",
              "      <td>1.73855</td>\n",
              "      <td>0.094822</td>\n",
              "      <td>11.339138</td>\n",
              "      <td>72.611063</td>\n",
              "      <td>2003.810319</td>\n",
              "      <td>22.136229</td>\n",
              "      <td>69.834944</td>\n",
              "      <td>0.120343</td>\n",
              "      <td>1</td>\n",
              "    </tr>\n",
              "    <tr>\n",
              "      <th>1</th>\n",
              "      <td>007255e47698</td>\n",
              "      <td>0.145282</td>\n",
              "      <td>978.76416</td>\n",
              "      <td>85.200147</td>\n",
              "      <td>36.968889</td>\n",
              "      <td>8.138688</td>\n",
              "      <td>3.632190</td>\n",
              "      <td>0.025578</td>\n",
              "      <td>13.517790</td>\n",
              "      <td>1.229900</td>\n",
              "      <td>...</td>\n",
              "      <td>0.173229</td>\n",
              "      <td>0.49706</td>\n",
              "      <td>0.568932</td>\n",
              "      <td>9.292698</td>\n",
              "      <td>72.611063</td>\n",
              "      <td>27981.562750</td>\n",
              "      <td>29.135430</td>\n",
              "      <td>32.131996</td>\n",
              "      <td>21.978000</td>\n",
              "      <td>0</td>\n",
              "    </tr>\n",
              "    <tr>\n",
              "      <th>2</th>\n",
              "      <td>013f2bd269f5</td>\n",
              "      <td>0.470030</td>\n",
              "      <td>2635.10654</td>\n",
              "      <td>85.200147</td>\n",
              "      <td>32.360553</td>\n",
              "      <td>8.138688</td>\n",
              "      <td>6.732840</td>\n",
              "      <td>0.025578</td>\n",
              "      <td>12.824570</td>\n",
              "      <td>1.229900</td>\n",
              "      <td>...</td>\n",
              "      <td>7.709560</td>\n",
              "      <td>0.97556</td>\n",
              "      <td>1.198821</td>\n",
              "      <td>37.077772</td>\n",
              "      <td>88.609437</td>\n",
              "      <td>13676.957810</td>\n",
              "      <td>28.022851</td>\n",
              "      <td>35.192676</td>\n",
              "      <td>0.196941</td>\n",
              "      <td>0</td>\n",
              "    </tr>\n",
              "    <tr>\n",
              "      <th>3</th>\n",
              "      <td>043ac50845d5</td>\n",
              "      <td>0.252107</td>\n",
              "      <td>3819.65177</td>\n",
              "      <td>120.201618</td>\n",
              "      <td>77.112203</td>\n",
              "      <td>8.138688</td>\n",
              "      <td>3.685344</td>\n",
              "      <td>0.025578</td>\n",
              "      <td>11.053708</td>\n",
              "      <td>1.229900</td>\n",
              "      <td>...</td>\n",
              "      <td>6.122162</td>\n",
              "      <td>0.49706</td>\n",
              "      <td>0.284466</td>\n",
              "      <td>18.529584</td>\n",
              "      <td>82.416803</td>\n",
              "      <td>2094.262452</td>\n",
              "      <td>39.948656</td>\n",
              "      <td>90.493248</td>\n",
              "      <td>0.155829</td>\n",
              "      <td>0</td>\n",
              "    </tr>\n",
              "    <tr>\n",
              "      <th>4</th>\n",
              "      <td>044fb8a146ec</td>\n",
              "      <td>0.380297</td>\n",
              "      <td>3733.04844</td>\n",
              "      <td>85.200147</td>\n",
              "      <td>14.103738</td>\n",
              "      <td>8.138688</td>\n",
              "      <td>3.942255</td>\n",
              "      <td>0.054810</td>\n",
              "      <td>3.396778</td>\n",
              "      <td>102.151980</td>\n",
              "      <td>...</td>\n",
              "      <td>8.153058</td>\n",
              "      <td>48.50134</td>\n",
              "      <td>0.121914</td>\n",
              "      <td>16.408728</td>\n",
              "      <td>146.109943</td>\n",
              "      <td>8524.370502</td>\n",
              "      <td>45.381316</td>\n",
              "      <td>36.262628</td>\n",
              "      <td>0.096614</td>\n",
              "      <td>1</td>\n",
              "    </tr>\n",
              "  </tbody>\n",
              "</table>\n",
              "<p>5 rows × 58 columns</p>\n",
              "</div>\n",
              "    <div class=\"colab-df-buttons\">\n",
              "\n",
              "  <div class=\"colab-df-container\">\n",
              "    <button class=\"colab-df-convert\" onclick=\"convertToInteractive('df-3cd72579-e805-4551-996a-eef98461b3bd')\"\n",
              "            title=\"Convert this dataframe to an interactive table.\"\n",
              "            style=\"display:none;\">\n",
              "\n",
              "  <svg xmlns=\"http://www.w3.org/2000/svg\" height=\"24px\" viewBox=\"0 -960 960 960\">\n",
              "    <path d=\"M120-120v-720h720v720H120Zm60-500h600v-160H180v160Zm220 220h160v-160H400v160Zm0 220h160v-160H400v160ZM180-400h160v-160H180v160Zm440 0h160v-160H620v160ZM180-180h160v-160H180v160Zm440 0h160v-160H620v160Z\"/>\n",
              "  </svg>\n",
              "    </button>\n",
              "\n",
              "  <style>\n",
              "    .colab-df-container {\n",
              "      display:flex;\n",
              "      gap: 12px;\n",
              "    }\n",
              "\n",
              "    .colab-df-convert {\n",
              "      background-color: #E8F0FE;\n",
              "      border: none;\n",
              "      border-radius: 50%;\n",
              "      cursor: pointer;\n",
              "      display: none;\n",
              "      fill: #1967D2;\n",
              "      height: 32px;\n",
              "      padding: 0 0 0 0;\n",
              "      width: 32px;\n",
              "    }\n",
              "\n",
              "    .colab-df-convert:hover {\n",
              "      background-color: #E2EBFA;\n",
              "      box-shadow: 0px 1px 2px rgba(60, 64, 67, 0.3), 0px 1px 3px 1px rgba(60, 64, 67, 0.15);\n",
              "      fill: #174EA6;\n",
              "    }\n",
              "\n",
              "    .colab-df-buttons div {\n",
              "      margin-bottom: 4px;\n",
              "    }\n",
              "\n",
              "    [theme=dark] .colab-df-convert {\n",
              "      background-color: #3B4455;\n",
              "      fill: #D2E3FC;\n",
              "    }\n",
              "\n",
              "    [theme=dark] .colab-df-convert:hover {\n",
              "      background-color: #434B5C;\n",
              "      box-shadow: 0px 1px 3px 1px rgba(0, 0, 0, 0.15);\n",
              "      filter: drop-shadow(0px 1px 2px rgba(0, 0, 0, 0.3));\n",
              "      fill: #FFFFFF;\n",
              "    }\n",
              "  </style>\n",
              "\n",
              "    <script>\n",
              "      const buttonEl =\n",
              "        document.querySelector('#df-3cd72579-e805-4551-996a-eef98461b3bd button.colab-df-convert');\n",
              "      buttonEl.style.display =\n",
              "        google.colab.kernel.accessAllowed ? 'block' : 'none';\n",
              "\n",
              "      async function convertToInteractive(key) {\n",
              "        const element = document.querySelector('#df-3cd72579-e805-4551-996a-eef98461b3bd');\n",
              "        const dataTable =\n",
              "          await google.colab.kernel.invokeFunction('convertToInteractive',\n",
              "                                                    [key], {});\n",
              "        if (!dataTable) return;\n",
              "\n",
              "        const docLinkHtml = 'Like what you see? Visit the ' +\n",
              "          '<a target=\"_blank\" href=https://colab.research.google.com/notebooks/data_table.ipynb>data table notebook</a>'\n",
              "          + ' to learn more about interactive tables.';\n",
              "        element.innerHTML = '';\n",
              "        dataTable['output_type'] = 'display_data';\n",
              "        await google.colab.output.renderOutput(dataTable, element);\n",
              "        const docLink = document.createElement('div');\n",
              "        docLink.innerHTML = docLinkHtml;\n",
              "        element.appendChild(docLink);\n",
              "      }\n",
              "    </script>\n",
              "  </div>\n",
              "\n",
              "\n",
              "<div id=\"df-6265e1c7-afa4-487b-a4a0-11a234b44dc4\">\n",
              "  <button class=\"colab-df-quickchart\" onclick=\"quickchart('df-6265e1c7-afa4-487b-a4a0-11a234b44dc4')\"\n",
              "            title=\"Suggest charts.\"\n",
              "            style=\"display:none;\">\n",
              "\n",
              "<svg xmlns=\"http://www.w3.org/2000/svg\" height=\"24px\"viewBox=\"0 0 24 24\"\n",
              "     width=\"24px\">\n",
              "    <g>\n",
              "        <path d=\"M19 3H5c-1.1 0-2 .9-2 2v14c0 1.1.9 2 2 2h14c1.1 0 2-.9 2-2V5c0-1.1-.9-2-2-2zM9 17H7v-7h2v7zm4 0h-2V7h2v10zm4 0h-2v-4h2v4z\"/>\n",
              "    </g>\n",
              "</svg>\n",
              "  </button>\n",
              "\n",
              "<style>\n",
              "  .colab-df-quickchart {\n",
              "      --bg-color: #E8F0FE;\n",
              "      --fill-color: #1967D2;\n",
              "      --hover-bg-color: #E2EBFA;\n",
              "      --hover-fill-color: #174EA6;\n",
              "      --disabled-fill-color: #AAA;\n",
              "      --disabled-bg-color: #DDD;\n",
              "  }\n",
              "\n",
              "  [theme=dark] .colab-df-quickchart {\n",
              "      --bg-color: #3B4455;\n",
              "      --fill-color: #D2E3FC;\n",
              "      --hover-bg-color: #434B5C;\n",
              "      --hover-fill-color: #FFFFFF;\n",
              "      --disabled-bg-color: #3B4455;\n",
              "      --disabled-fill-color: #666;\n",
              "  }\n",
              "\n",
              "  .colab-df-quickchart {\n",
              "    background-color: var(--bg-color);\n",
              "    border: none;\n",
              "    border-radius: 50%;\n",
              "    cursor: pointer;\n",
              "    display: none;\n",
              "    fill: var(--fill-color);\n",
              "    height: 32px;\n",
              "    padding: 0;\n",
              "    width: 32px;\n",
              "  }\n",
              "\n",
              "  .colab-df-quickchart:hover {\n",
              "    background-color: var(--hover-bg-color);\n",
              "    box-shadow: 0 1px 2px rgba(60, 64, 67, 0.3), 0 1px 3px 1px rgba(60, 64, 67, 0.15);\n",
              "    fill: var(--button-hover-fill-color);\n",
              "  }\n",
              "\n",
              "  .colab-df-quickchart-complete:disabled,\n",
              "  .colab-df-quickchart-complete:disabled:hover {\n",
              "    background-color: var(--disabled-bg-color);\n",
              "    fill: var(--disabled-fill-color);\n",
              "    box-shadow: none;\n",
              "  }\n",
              "\n",
              "  .colab-df-spinner {\n",
              "    border: 2px solid var(--fill-color);\n",
              "    border-color: transparent;\n",
              "    border-bottom-color: var(--fill-color);\n",
              "    animation:\n",
              "      spin 1s steps(1) infinite;\n",
              "  }\n",
              "\n",
              "  @keyframes spin {\n",
              "    0% {\n",
              "      border-color: transparent;\n",
              "      border-bottom-color: var(--fill-color);\n",
              "      border-left-color: var(--fill-color);\n",
              "    }\n",
              "    20% {\n",
              "      border-color: transparent;\n",
              "      border-left-color: var(--fill-color);\n",
              "      border-top-color: var(--fill-color);\n",
              "    }\n",
              "    30% {\n",
              "      border-color: transparent;\n",
              "      border-left-color: var(--fill-color);\n",
              "      border-top-color: var(--fill-color);\n",
              "      border-right-color: var(--fill-color);\n",
              "    }\n",
              "    40% {\n",
              "      border-color: transparent;\n",
              "      border-right-color: var(--fill-color);\n",
              "      border-top-color: var(--fill-color);\n",
              "    }\n",
              "    60% {\n",
              "      border-color: transparent;\n",
              "      border-right-color: var(--fill-color);\n",
              "    }\n",
              "    80% {\n",
              "      border-color: transparent;\n",
              "      border-right-color: var(--fill-color);\n",
              "      border-bottom-color: var(--fill-color);\n",
              "    }\n",
              "    90% {\n",
              "      border-color: transparent;\n",
              "      border-bottom-color: var(--fill-color);\n",
              "    }\n",
              "  }\n",
              "</style>\n",
              "\n",
              "  <script>\n",
              "    async function quickchart(key) {\n",
              "      const quickchartButtonEl =\n",
              "        document.querySelector('#' + key + ' button');\n",
              "      quickchartButtonEl.disabled = true;  // To prevent multiple clicks.\n",
              "      quickchartButtonEl.classList.add('colab-df-spinner');\n",
              "      try {\n",
              "        const charts = await google.colab.kernel.invokeFunction(\n",
              "            'suggestCharts', [key], {});\n",
              "      } catch (error) {\n",
              "        console.error('Error during call to suggestCharts:', error);\n",
              "      }\n",
              "      quickchartButtonEl.classList.remove('colab-df-spinner');\n",
              "      quickchartButtonEl.classList.add('colab-df-quickchart-complete');\n",
              "    }\n",
              "    (() => {\n",
              "      let quickchartButtonEl =\n",
              "        document.querySelector('#df-6265e1c7-afa4-487b-a4a0-11a234b44dc4 button');\n",
              "      quickchartButtonEl.style.display =\n",
              "        google.colab.kernel.accessAllowed ? 'block' : 'none';\n",
              "    })();\n",
              "  </script>\n",
              "</div>\n",
              "    </div>\n",
              "  </div>\n"
            ]
          },
          "metadata": {},
          "execution_count": 6
        }
      ],
      "source": [
        "dataset_df.head()"
      ]
    },
    {
      "cell_type": "markdown",
      "id": "5986efef",
      "metadata": {
        "papermill": {
          "duration": 0.010987,
          "end_time": "2023-06-05T10:06:59.877649",
          "exception": false,
          "start_time": "2023-06-05T10:06:59.866662",
          "status": "completed"
        },
        "tags": [],
        "id": "5986efef"
      },
      "source": [
        "`Class` is the label column indicating if a person has one or more of any of the three medical conditions (i.e,`Class 1`), or none of the three medical conditions (i.e,`Class 0`).\n",
        "Given the features of the dataset, the goal of our model is to predict the value of `Class` for any person."
      ]
    },
    {
      "cell_type": "markdown",
      "id": "c13caadf",
      "metadata": {
        "papermill": {
          "duration": 0.009682,
          "end_time": "2023-06-05T10:06:59.897333",
          "exception": false,
          "start_time": "2023-06-05T10:06:59.887651",
          "status": "completed"
        },
        "tags": [],
        "id": "c13caadf"
      },
      "source": [
        "## Basic dataset exploration"
      ]
    },
    {
      "cell_type": "code",
      "execution_count": 7,
      "id": "91883205",
      "metadata": {
        "execution": {
          "iopub.execute_input": "2023-06-05T10:06:59.919816Z",
          "iopub.status.busy": "2023-06-05T10:06:59.919374Z",
          "iopub.status.idle": "2023-06-05T10:07:00.056685Z",
          "shell.execute_reply": "2023-06-05T10:07:00.054946Z"
        },
        "papermill": {
          "duration": 0.152203,
          "end_time": "2023-06-05T10:07:00.059730",
          "exception": false,
          "start_time": "2023-06-05T10:06:59.907527",
          "status": "completed"
        },
        "tags": [],
        "colab": {
          "base_uri": "https://localhost:8080/",
          "height": 349
        },
        "id": "91883205",
        "outputId": "6f11dd49-5c2e-41f1-9451-d636f4a9cb80"
      },
      "outputs": [
        {
          "output_type": "execute_result",
          "data": {
            "text/plain": [
              "               AB            AF           AH          AM          AR  \\\n",
              "count  617.000000    617.000000   617.000000  617.000000  617.000000   \n",
              "mean     0.477149   3502.013221   118.624513   38.968552   10.128242   \n",
              "std      0.468388   2300.322717   127.838950   69.728226   10.518877   \n",
              "min      0.081187    192.593280    85.200147    3.177522    8.138688   \n",
              "25%      0.252107   2197.345480    85.200147   12.270314    8.138688   \n",
              "50%      0.354659   3120.318960    85.200147   20.533110    8.138688   \n",
              "75%      0.559763   4361.637390   113.739540   39.139886    8.138688   \n",
              "max      6.161666  28688.187660  1910.123198  630.518230  178.943634   \n",
              "\n",
              "               AX          AY          AZ           BC           BD   ...  \\\n",
              "count  617.000000  617.000000  617.000000   617.000000    617.000000  ...   \n",
              "mean     5.545576    0.060320   10.566447     8.053012   5350.388655  ...   \n",
              "std      2.551696    0.416817    4.350645    65.166943   3021.326641  ...   \n",
              "min      0.699861    0.025578    3.396778     1.229900   1693.624320  ...   \n",
              "25%      4.128294    0.025578    8.129580     1.229900   4155.702870  ...   \n",
              "50%      5.031912    0.025578   10.461320     1.229900   4997.960730  ...   \n",
              "75%      6.431634    0.036845   12.969516     5.081244   6035.885700  ...   \n",
              "max     38.270880   10.315851   38.971568  1463.693448  53060.599240  ...   \n",
              "\n",
              "               FL           FR          FS          GB           GE  \\\n",
              "count  616.000000   617.000000  615.000000  617.000000   617.000000   \n",
              "mean     5.433199     3.533905    0.421501   20.724856   131.714987   \n",
              "std     11.496257    50.181948    1.305365    9.991907   144.181524   \n",
              "min      0.173229     0.497060    0.067730    4.102182    72.611063   \n",
              "25%      0.173229     0.497060    0.067730   14.036718    72.611063   \n",
              "50%      3.028141     1.131000    0.250601   18.771436    72.611063   \n",
              "75%      6.238814     1.512060    0.535067   25.608406   127.591671   \n",
              "max    137.932739  1244.227020   31.365763  135.781294  1497.351958   \n",
              "\n",
              "                  GF          GH          GI          GL       Class  \n",
              "count     617.000000  617.000000  617.000000  616.000000  617.000000  \n",
              "mean    14679.595398   31.489716   50.584437    8.530961    0.175041  \n",
              "std     19352.959387    9.864239   36.266251   10.327010    0.380310  \n",
              "min        13.038894    9.432735    0.897628    0.001129    0.000000  \n",
              "25%      2798.992584   25.034888   23.011684    0.124392    0.000000  \n",
              "50%      7838.273610   30.608946   41.007968    0.337827    0.000000  \n",
              "75%     19035.709240   36.863947   67.931664   21.978000    0.000000  \n",
              "max    143790.071200   81.210825  191.194764   21.978000    1.000000  \n",
              "\n",
              "[8 rows x 56 columns]"
            ],
            "text/html": [
              "\n",
              "  <div id=\"df-72302624-8080-45a2-a934-e57de714dc9d\" class=\"colab-df-container\">\n",
              "    <div>\n",
              "<style scoped>\n",
              "    .dataframe tbody tr th:only-of-type {\n",
              "        vertical-align: middle;\n",
              "    }\n",
              "\n",
              "    .dataframe tbody tr th {\n",
              "        vertical-align: top;\n",
              "    }\n",
              "\n",
              "    .dataframe thead th {\n",
              "        text-align: right;\n",
              "    }\n",
              "</style>\n",
              "<table border=\"1\" class=\"dataframe\">\n",
              "  <thead>\n",
              "    <tr style=\"text-align: right;\">\n",
              "      <th></th>\n",
              "      <th>AB</th>\n",
              "      <th>AF</th>\n",
              "      <th>AH</th>\n",
              "      <th>AM</th>\n",
              "      <th>AR</th>\n",
              "      <th>AX</th>\n",
              "      <th>AY</th>\n",
              "      <th>AZ</th>\n",
              "      <th>BC</th>\n",
              "      <th>BD</th>\n",
              "      <th>...</th>\n",
              "      <th>FL</th>\n",
              "      <th>FR</th>\n",
              "      <th>FS</th>\n",
              "      <th>GB</th>\n",
              "      <th>GE</th>\n",
              "      <th>GF</th>\n",
              "      <th>GH</th>\n",
              "      <th>GI</th>\n",
              "      <th>GL</th>\n",
              "      <th>Class</th>\n",
              "    </tr>\n",
              "  </thead>\n",
              "  <tbody>\n",
              "    <tr>\n",
              "      <th>count</th>\n",
              "      <td>617.000000</td>\n",
              "      <td>617.000000</td>\n",
              "      <td>617.000000</td>\n",
              "      <td>617.000000</td>\n",
              "      <td>617.000000</td>\n",
              "      <td>617.000000</td>\n",
              "      <td>617.000000</td>\n",
              "      <td>617.000000</td>\n",
              "      <td>617.000000</td>\n",
              "      <td>617.000000</td>\n",
              "      <td>...</td>\n",
              "      <td>616.000000</td>\n",
              "      <td>617.000000</td>\n",
              "      <td>615.000000</td>\n",
              "      <td>617.000000</td>\n",
              "      <td>617.000000</td>\n",
              "      <td>617.000000</td>\n",
              "      <td>617.000000</td>\n",
              "      <td>617.000000</td>\n",
              "      <td>616.000000</td>\n",
              "      <td>617.000000</td>\n",
              "    </tr>\n",
              "    <tr>\n",
              "      <th>mean</th>\n",
              "      <td>0.477149</td>\n",
              "      <td>3502.013221</td>\n",
              "      <td>118.624513</td>\n",
              "      <td>38.968552</td>\n",
              "      <td>10.128242</td>\n",
              "      <td>5.545576</td>\n",
              "      <td>0.060320</td>\n",
              "      <td>10.566447</td>\n",
              "      <td>8.053012</td>\n",
              "      <td>5350.388655</td>\n",
              "      <td>...</td>\n",
              "      <td>5.433199</td>\n",
              "      <td>3.533905</td>\n",
              "      <td>0.421501</td>\n",
              "      <td>20.724856</td>\n",
              "      <td>131.714987</td>\n",
              "      <td>14679.595398</td>\n",
              "      <td>31.489716</td>\n",
              "      <td>50.584437</td>\n",
              "      <td>8.530961</td>\n",
              "      <td>0.175041</td>\n",
              "    </tr>\n",
              "    <tr>\n",
              "      <th>std</th>\n",
              "      <td>0.468388</td>\n",
              "      <td>2300.322717</td>\n",
              "      <td>127.838950</td>\n",
              "      <td>69.728226</td>\n",
              "      <td>10.518877</td>\n",
              "      <td>2.551696</td>\n",
              "      <td>0.416817</td>\n",
              "      <td>4.350645</td>\n",
              "      <td>65.166943</td>\n",
              "      <td>3021.326641</td>\n",
              "      <td>...</td>\n",
              "      <td>11.496257</td>\n",
              "      <td>50.181948</td>\n",
              "      <td>1.305365</td>\n",
              "      <td>9.991907</td>\n",
              "      <td>144.181524</td>\n",
              "      <td>19352.959387</td>\n",
              "      <td>9.864239</td>\n",
              "      <td>36.266251</td>\n",
              "      <td>10.327010</td>\n",
              "      <td>0.380310</td>\n",
              "    </tr>\n",
              "    <tr>\n",
              "      <th>min</th>\n",
              "      <td>0.081187</td>\n",
              "      <td>192.593280</td>\n",
              "      <td>85.200147</td>\n",
              "      <td>3.177522</td>\n",
              "      <td>8.138688</td>\n",
              "      <td>0.699861</td>\n",
              "      <td>0.025578</td>\n",
              "      <td>3.396778</td>\n",
              "      <td>1.229900</td>\n",
              "      <td>1693.624320</td>\n",
              "      <td>...</td>\n",
              "      <td>0.173229</td>\n",
              "      <td>0.497060</td>\n",
              "      <td>0.067730</td>\n",
              "      <td>4.102182</td>\n",
              "      <td>72.611063</td>\n",
              "      <td>13.038894</td>\n",
              "      <td>9.432735</td>\n",
              "      <td>0.897628</td>\n",
              "      <td>0.001129</td>\n",
              "      <td>0.000000</td>\n",
              "    </tr>\n",
              "    <tr>\n",
              "      <th>25%</th>\n",
              "      <td>0.252107</td>\n",
              "      <td>2197.345480</td>\n",
              "      <td>85.200147</td>\n",
              "      <td>12.270314</td>\n",
              "      <td>8.138688</td>\n",
              "      <td>4.128294</td>\n",
              "      <td>0.025578</td>\n",
              "      <td>8.129580</td>\n",
              "      <td>1.229900</td>\n",
              "      <td>4155.702870</td>\n",
              "      <td>...</td>\n",
              "      <td>0.173229</td>\n",
              "      <td>0.497060</td>\n",
              "      <td>0.067730</td>\n",
              "      <td>14.036718</td>\n",
              "      <td>72.611063</td>\n",
              "      <td>2798.992584</td>\n",
              "      <td>25.034888</td>\n",
              "      <td>23.011684</td>\n",
              "      <td>0.124392</td>\n",
              "      <td>0.000000</td>\n",
              "    </tr>\n",
              "    <tr>\n",
              "      <th>50%</th>\n",
              "      <td>0.354659</td>\n",
              "      <td>3120.318960</td>\n",
              "      <td>85.200147</td>\n",
              "      <td>20.533110</td>\n",
              "      <td>8.138688</td>\n",
              "      <td>5.031912</td>\n",
              "      <td>0.025578</td>\n",
              "      <td>10.461320</td>\n",
              "      <td>1.229900</td>\n",
              "      <td>4997.960730</td>\n",
              "      <td>...</td>\n",
              "      <td>3.028141</td>\n",
              "      <td>1.131000</td>\n",
              "      <td>0.250601</td>\n",
              "      <td>18.771436</td>\n",
              "      <td>72.611063</td>\n",
              "      <td>7838.273610</td>\n",
              "      <td>30.608946</td>\n",
              "      <td>41.007968</td>\n",
              "      <td>0.337827</td>\n",
              "      <td>0.000000</td>\n",
              "    </tr>\n",
              "    <tr>\n",
              "      <th>75%</th>\n",
              "      <td>0.559763</td>\n",
              "      <td>4361.637390</td>\n",
              "      <td>113.739540</td>\n",
              "      <td>39.139886</td>\n",
              "      <td>8.138688</td>\n",
              "      <td>6.431634</td>\n",
              "      <td>0.036845</td>\n",
              "      <td>12.969516</td>\n",
              "      <td>5.081244</td>\n",
              "      <td>6035.885700</td>\n",
              "      <td>...</td>\n",
              "      <td>6.238814</td>\n",
              "      <td>1.512060</td>\n",
              "      <td>0.535067</td>\n",
              "      <td>25.608406</td>\n",
              "      <td>127.591671</td>\n",
              "      <td>19035.709240</td>\n",
              "      <td>36.863947</td>\n",
              "      <td>67.931664</td>\n",
              "      <td>21.978000</td>\n",
              "      <td>0.000000</td>\n",
              "    </tr>\n",
              "    <tr>\n",
              "      <th>max</th>\n",
              "      <td>6.161666</td>\n",
              "      <td>28688.187660</td>\n",
              "      <td>1910.123198</td>\n",
              "      <td>630.518230</td>\n",
              "      <td>178.943634</td>\n",
              "      <td>38.270880</td>\n",
              "      <td>10.315851</td>\n",
              "      <td>38.971568</td>\n",
              "      <td>1463.693448</td>\n",
              "      <td>53060.599240</td>\n",
              "      <td>...</td>\n",
              "      <td>137.932739</td>\n",
              "      <td>1244.227020</td>\n",
              "      <td>31.365763</td>\n",
              "      <td>135.781294</td>\n",
              "      <td>1497.351958</td>\n",
              "      <td>143790.071200</td>\n",
              "      <td>81.210825</td>\n",
              "      <td>191.194764</td>\n",
              "      <td>21.978000</td>\n",
              "      <td>1.000000</td>\n",
              "    </tr>\n",
              "  </tbody>\n",
              "</table>\n",
              "<p>8 rows × 56 columns</p>\n",
              "</div>\n",
              "    <div class=\"colab-df-buttons\">\n",
              "\n",
              "  <div class=\"colab-df-container\">\n",
              "    <button class=\"colab-df-convert\" onclick=\"convertToInteractive('df-72302624-8080-45a2-a934-e57de714dc9d')\"\n",
              "            title=\"Convert this dataframe to an interactive table.\"\n",
              "            style=\"display:none;\">\n",
              "\n",
              "  <svg xmlns=\"http://www.w3.org/2000/svg\" height=\"24px\" viewBox=\"0 -960 960 960\">\n",
              "    <path d=\"M120-120v-720h720v720H120Zm60-500h600v-160H180v160Zm220 220h160v-160H400v160Zm0 220h160v-160H400v160ZM180-400h160v-160H180v160Zm440 0h160v-160H620v160ZM180-180h160v-160H180v160Zm440 0h160v-160H620v160Z\"/>\n",
              "  </svg>\n",
              "    </button>\n",
              "\n",
              "  <style>\n",
              "    .colab-df-container {\n",
              "      display:flex;\n",
              "      gap: 12px;\n",
              "    }\n",
              "\n",
              "    .colab-df-convert {\n",
              "      background-color: #E8F0FE;\n",
              "      border: none;\n",
              "      border-radius: 50%;\n",
              "      cursor: pointer;\n",
              "      display: none;\n",
              "      fill: #1967D2;\n",
              "      height: 32px;\n",
              "      padding: 0 0 0 0;\n",
              "      width: 32px;\n",
              "    }\n",
              "\n",
              "    .colab-df-convert:hover {\n",
              "      background-color: #E2EBFA;\n",
              "      box-shadow: 0px 1px 2px rgba(60, 64, 67, 0.3), 0px 1px 3px 1px rgba(60, 64, 67, 0.15);\n",
              "      fill: #174EA6;\n",
              "    }\n",
              "\n",
              "    .colab-df-buttons div {\n",
              "      margin-bottom: 4px;\n",
              "    }\n",
              "\n",
              "    [theme=dark] .colab-df-convert {\n",
              "      background-color: #3B4455;\n",
              "      fill: #D2E3FC;\n",
              "    }\n",
              "\n",
              "    [theme=dark] .colab-df-convert:hover {\n",
              "      background-color: #434B5C;\n",
              "      box-shadow: 0px 1px 3px 1px rgba(0, 0, 0, 0.15);\n",
              "      filter: drop-shadow(0px 1px 2px rgba(0, 0, 0, 0.3));\n",
              "      fill: #FFFFFF;\n",
              "    }\n",
              "  </style>\n",
              "\n",
              "    <script>\n",
              "      const buttonEl =\n",
              "        document.querySelector('#df-72302624-8080-45a2-a934-e57de714dc9d button.colab-df-convert');\n",
              "      buttonEl.style.display =\n",
              "        google.colab.kernel.accessAllowed ? 'block' : 'none';\n",
              "\n",
              "      async function convertToInteractive(key) {\n",
              "        const element = document.querySelector('#df-72302624-8080-45a2-a934-e57de714dc9d');\n",
              "        const dataTable =\n",
              "          await google.colab.kernel.invokeFunction('convertToInteractive',\n",
              "                                                    [key], {});\n",
              "        if (!dataTable) return;\n",
              "\n",
              "        const docLinkHtml = 'Like what you see? Visit the ' +\n",
              "          '<a target=\"_blank\" href=https://colab.research.google.com/notebooks/data_table.ipynb>data table notebook</a>'\n",
              "          + ' to learn more about interactive tables.';\n",
              "        element.innerHTML = '';\n",
              "        dataTable['output_type'] = 'display_data';\n",
              "        await google.colab.output.renderOutput(dataTable, element);\n",
              "        const docLink = document.createElement('div');\n",
              "        docLink.innerHTML = docLinkHtml;\n",
              "        element.appendChild(docLink);\n",
              "      }\n",
              "    </script>\n",
              "  </div>\n",
              "\n",
              "\n",
              "<div id=\"df-96bf4f77-3522-4d73-9fad-53c4b710196b\">\n",
              "  <button class=\"colab-df-quickchart\" onclick=\"quickchart('df-96bf4f77-3522-4d73-9fad-53c4b710196b')\"\n",
              "            title=\"Suggest charts.\"\n",
              "            style=\"display:none;\">\n",
              "\n",
              "<svg xmlns=\"http://www.w3.org/2000/svg\" height=\"24px\"viewBox=\"0 0 24 24\"\n",
              "     width=\"24px\">\n",
              "    <g>\n",
              "        <path d=\"M19 3H5c-1.1 0-2 .9-2 2v14c0 1.1.9 2 2 2h14c1.1 0 2-.9 2-2V5c0-1.1-.9-2-2-2zM9 17H7v-7h2v7zm4 0h-2V7h2v10zm4 0h-2v-4h2v4z\"/>\n",
              "    </g>\n",
              "</svg>\n",
              "  </button>\n",
              "\n",
              "<style>\n",
              "  .colab-df-quickchart {\n",
              "      --bg-color: #E8F0FE;\n",
              "      --fill-color: #1967D2;\n",
              "      --hover-bg-color: #E2EBFA;\n",
              "      --hover-fill-color: #174EA6;\n",
              "      --disabled-fill-color: #AAA;\n",
              "      --disabled-bg-color: #DDD;\n",
              "  }\n",
              "\n",
              "  [theme=dark] .colab-df-quickchart {\n",
              "      --bg-color: #3B4455;\n",
              "      --fill-color: #D2E3FC;\n",
              "      --hover-bg-color: #434B5C;\n",
              "      --hover-fill-color: #FFFFFF;\n",
              "      --disabled-bg-color: #3B4455;\n",
              "      --disabled-fill-color: #666;\n",
              "  }\n",
              "\n",
              "  .colab-df-quickchart {\n",
              "    background-color: var(--bg-color);\n",
              "    border: none;\n",
              "    border-radius: 50%;\n",
              "    cursor: pointer;\n",
              "    display: none;\n",
              "    fill: var(--fill-color);\n",
              "    height: 32px;\n",
              "    padding: 0;\n",
              "    width: 32px;\n",
              "  }\n",
              "\n",
              "  .colab-df-quickchart:hover {\n",
              "    background-color: var(--hover-bg-color);\n",
              "    box-shadow: 0 1px 2px rgba(60, 64, 67, 0.3), 0 1px 3px 1px rgba(60, 64, 67, 0.15);\n",
              "    fill: var(--button-hover-fill-color);\n",
              "  }\n",
              "\n",
              "  .colab-df-quickchart-complete:disabled,\n",
              "  .colab-df-quickchart-complete:disabled:hover {\n",
              "    background-color: var(--disabled-bg-color);\n",
              "    fill: var(--disabled-fill-color);\n",
              "    box-shadow: none;\n",
              "  }\n",
              "\n",
              "  .colab-df-spinner {\n",
              "    border: 2px solid var(--fill-color);\n",
              "    border-color: transparent;\n",
              "    border-bottom-color: var(--fill-color);\n",
              "    animation:\n",
              "      spin 1s steps(1) infinite;\n",
              "  }\n",
              "\n",
              "  @keyframes spin {\n",
              "    0% {\n",
              "      border-color: transparent;\n",
              "      border-bottom-color: var(--fill-color);\n",
              "      border-left-color: var(--fill-color);\n",
              "    }\n",
              "    20% {\n",
              "      border-color: transparent;\n",
              "      border-left-color: var(--fill-color);\n",
              "      border-top-color: var(--fill-color);\n",
              "    }\n",
              "    30% {\n",
              "      border-color: transparent;\n",
              "      border-left-color: var(--fill-color);\n",
              "      border-top-color: var(--fill-color);\n",
              "      border-right-color: var(--fill-color);\n",
              "    }\n",
              "    40% {\n",
              "      border-color: transparent;\n",
              "      border-right-color: var(--fill-color);\n",
              "      border-top-color: var(--fill-color);\n",
              "    }\n",
              "    60% {\n",
              "      border-color: transparent;\n",
              "      border-right-color: var(--fill-color);\n",
              "    }\n",
              "    80% {\n",
              "      border-color: transparent;\n",
              "      border-right-color: var(--fill-color);\n",
              "      border-bottom-color: var(--fill-color);\n",
              "    }\n",
              "    90% {\n",
              "      border-color: transparent;\n",
              "      border-bottom-color: var(--fill-color);\n",
              "    }\n",
              "  }\n",
              "</style>\n",
              "\n",
              "  <script>\n",
              "    async function quickchart(key) {\n",
              "      const quickchartButtonEl =\n",
              "        document.querySelector('#' + key + ' button');\n",
              "      quickchartButtonEl.disabled = true;  // To prevent multiple clicks.\n",
              "      quickchartButtonEl.classList.add('colab-df-spinner');\n",
              "      try {\n",
              "        const charts = await google.colab.kernel.invokeFunction(\n",
              "            'suggestCharts', [key], {});\n",
              "      } catch (error) {\n",
              "        console.error('Error during call to suggestCharts:', error);\n",
              "      }\n",
              "      quickchartButtonEl.classList.remove('colab-df-spinner');\n",
              "      quickchartButtonEl.classList.add('colab-df-quickchart-complete');\n",
              "    }\n",
              "    (() => {\n",
              "      let quickchartButtonEl =\n",
              "        document.querySelector('#df-96bf4f77-3522-4d73-9fad-53c4b710196b button');\n",
              "      quickchartButtonEl.style.display =\n",
              "        google.colab.kernel.accessAllowed ? 'block' : 'none';\n",
              "    })();\n",
              "  </script>\n",
              "</div>\n",
              "    </div>\n",
              "  </div>\n"
            ]
          },
          "metadata": {},
          "execution_count": 7
        }
      ],
      "source": [
        "dataset_df.describe()"
      ]
    },
    {
      "cell_type": "code",
      "source": [
        "dataset_df.info()"
      ],
      "metadata": {
        "colab": {
          "base_uri": "https://localhost:8080/"
        },
        "id": "BQ3D-1FtE4Pv",
        "outputId": "02efa0f0-869a-4a0e-adaf-92d1fbbd3d0f"
      },
      "id": "BQ3D-1FtE4Pv",
      "execution_count": 8,
      "outputs": [
        {
          "output_type": "stream",
          "name": "stdout",
          "text": [
            "<class 'pandas.core.frame.DataFrame'>\n",
            "RangeIndex: 617 entries, 0 to 616\n",
            "Data columns (total 58 columns):\n",
            " #   Column  Non-Null Count  Dtype  \n",
            "---  ------  --------------  -----  \n",
            " 0   Id      617 non-null    object \n",
            " 1   AB      617 non-null    float64\n",
            " 2   AF      617 non-null    float64\n",
            " 3   AH      617 non-null    float64\n",
            " 4   AM      617 non-null    float64\n",
            " 5   AR      617 non-null    float64\n",
            " 6   AX      617 non-null    float64\n",
            " 7   AY      617 non-null    float64\n",
            " 8   AZ      617 non-null    float64\n",
            " 9   BC      617 non-null    float64\n",
            " 10  BD      617 non-null    float64\n",
            " 11  BN      617 non-null    float64\n",
            " 12  BP      617 non-null    float64\n",
            " 13  BQ      557 non-null    float64\n",
            " 14  BR      617 non-null    float64\n",
            " 15  BZ      617 non-null    float64\n",
            " 16  CB      615 non-null    float64\n",
            " 17  CC      614 non-null    float64\n",
            " 18  CD      617 non-null    float64\n",
            " 19  CF      617 non-null    float64\n",
            " 20  CH      617 non-null    float64\n",
            " 21  CL      617 non-null    float64\n",
            " 22  CR      617 non-null    float64\n",
            " 23  CS      617 non-null    float64\n",
            " 24  CU      617 non-null    float64\n",
            " 25  CW      617 non-null    float64\n",
            " 26  DA      617 non-null    float64\n",
            " 27  DE      617 non-null    float64\n",
            " 28  DF      617 non-null    float64\n",
            " 29  DH      617 non-null    float64\n",
            " 30  DI      617 non-null    float64\n",
            " 31  DL      617 non-null    float64\n",
            " 32  DN      617 non-null    float64\n",
            " 33  DU      616 non-null    float64\n",
            " 34  DV      617 non-null    float64\n",
            " 35  DY      617 non-null    float64\n",
            " 36  EB      617 non-null    float64\n",
            " 37  EE      617 non-null    float64\n",
            " 38  EG      617 non-null    float64\n",
            " 39  EH      617 non-null    float64\n",
            " 40  EJ      617 non-null    object \n",
            " 41  EL      557 non-null    float64\n",
            " 42  EP      617 non-null    float64\n",
            " 43  EU      617 non-null    float64\n",
            " 44  FC      616 non-null    float64\n",
            " 45  FD      617 non-null    float64\n",
            " 46  FE      617 non-null    float64\n",
            " 47  FI      617 non-null    float64\n",
            " 48  FL      616 non-null    float64\n",
            " 49  FR      617 non-null    float64\n",
            " 50  FS      615 non-null    float64\n",
            " 51  GB      617 non-null    float64\n",
            " 52  GE      617 non-null    float64\n",
            " 53  GF      617 non-null    float64\n",
            " 54  GH      617 non-null    float64\n",
            " 55  GI      617 non-null    float64\n",
            " 56  GL      616 non-null    float64\n",
            " 57  Class   617 non-null    int64  \n",
            "dtypes: float64(55), int64(1), object(2)\n",
            "memory usage: 279.7+ KB\n"
          ]
        }
      ]
    },
    {
      "cell_type": "markdown",
      "id": "1c466f4c",
      "metadata": {
        "papermill": {
          "duration": 0.009888,
          "end_time": "2023-06-05T10:07:00.101236",
          "exception": false,
          "start_time": "2023-06-05T10:07:00.091348",
          "status": "completed"
        },
        "tags": [],
        "id": "1c466f4c"
      },
      "source": [
        "## Pie chart for label column: Class"
      ]
    },
    {
      "cell_type": "code",
      "execution_count": 9,
      "id": "f2b00855",
      "metadata": {
        "execution": {
          "iopub.execute_input": "2023-06-05T10:07:00.123627Z",
          "iopub.status.busy": "2023-06-05T10:07:00.123240Z",
          "iopub.status.idle": "2023-06-05T10:07:00.340561Z",
          "shell.execute_reply": "2023-06-05T10:07:00.339412Z"
        },
        "papermill": {
          "duration": 0.23214,
          "end_time": "2023-06-05T10:07:00.343498",
          "exception": false,
          "start_time": "2023-06-05T10:07:00.111358",
          "status": "completed"
        },
        "tags": [],
        "colab": {
          "base_uri": "https://localhost:8080/",
          "height": 424
        },
        "id": "f2b00855",
        "outputId": "f2391484-3551-4e3c-c166-407bda1e3bcf"
      },
      "outputs": [
        {
          "output_type": "execute_result",
          "data": {
            "text/plain": [
              "<Axes: ylabel='Class'>"
            ]
          },
          "metadata": {},
          "execution_count": 9
        },
        {
          "output_type": "display_data",
          "data": {
            "text/plain": [
              "<Figure size 640x480 with 1 Axes>"
            ],
            "image/png": "[encoded data removed]"
          },
          "metadata": {}
        }
      ],
      "source": [
        "plot_df = dataset_df.Class.value_counts()\n",
        "plot_df.plot(kind=\"pie\")"
      ]
    },
    {
      "cell_type": "markdown",
      "id": "276382c6",
      "metadata": {
        "papermill": {
          "duration": 0.010228,
          "end_time": "2023-06-05T10:07:00.365038",
          "exception": false,
          "start_time": "2023-06-05T10:07:00.354810",
          "status": "completed"
        },
        "tags": [],
        "id": "276382c6"
      },
      "source": [
        "**Important**: From the pie chart we can see that the dataset is heavily imbalanced since the fraction of positive(`1`) samples is very small compared to the negative(`0`) samples."
      ]
    },
    {
      "cell_type": "markdown",
      "id": "83bf842b",
      "metadata": {
        "papermill": {
          "duration": 0.010245,
          "end_time": "2023-06-05T10:07:00.385940",
          "exception": false,
          "start_time": "2023-06-05T10:07:00.375695",
          "status": "completed"
        },
        "tags": [],
        "id": "83bf842b"
      },
      "source": [
        "## Numerical data distribution\n",
        "\n",
        "First, we will list all the numerical columns names."
      ]
    },
    {
      "cell_type": "code",
      "execution_count": 10,
      "id": "64ffae51",
      "metadata": {
        "execution": {
          "iopub.execute_input": "2023-06-05T10:07:00.409698Z",
          "iopub.status.busy": "2023-06-05T10:07:00.408995Z",
          "iopub.status.idle": "2023-06-05T10:07:00.414144Z",
          "shell.execute_reply": "2023-06-05T10:07:00.413022Z"
        },
        "papermill": {
          "duration": 0.019983,
          "end_time": "2023-06-05T10:07:00.416743",
          "exception": false,
          "start_time": "2023-06-05T10:07:00.396760",
          "status": "completed"
        },
        "tags": [],
        "id": "64ffae51"
      },
      "outputs": [],
      "source": [
        "# Store all the numerical column names into a list\n",
        "NUM_FEATURE_COLUMNS = [i for i in dataset_df.columns if i not in [\"Id\", \"EJ\", \"Class\"]]"
      ]
    },
    {
      "cell_type": "markdown",
      "id": "2c5e4061",
      "metadata": {
        "papermill": {
          "duration": 0.011397,
          "end_time": "2023-06-05T10:07:00.439327",
          "exception": false,
          "start_time": "2023-06-05T10:07:00.427930",
          "status": "completed"
        },
        "tags": [],
        "id": "2c5e4061"
      },
      "source": [
        "Let us now plot the first 6 numerical columns and their values using bar charts."
      ]
    },
    {
      "cell_type": "code",
      "execution_count": 11,
      "id": "30417fdd",
      "metadata": {
        "execution": {
          "iopub.execute_input": "2023-06-05T10:07:00.463187Z",
          "iopub.status.busy": "2023-06-05T10:07:00.462813Z",
          "iopub.status.idle": "2023-06-05T10:07:22.574045Z",
          "shell.execute_reply": "2023-06-05T10:07:22.572688Z"
        },
        "papermill": {
          "duration": 22.12613,
          "end_time": "2023-06-05T10:07:22.576940",
          "exception": false,
          "start_time": "2023-06-05T10:07:00.450810",
          "status": "completed"
        },
        "tags": [],
        "colab": {
          "base_uri": "https://localhost:8080/",
          "height": 1000
        },
        "id": "30417fdd",
        "outputId": "ecbd43b9-a8e3-42e0-9d74-1320bdc992d0"
      },
      "outputs": [
        {
          "output_type": "display_data",
          "data": {
            "text/plain": [
              "<Figure size 1500x1500 with 6 Axes>"
            ],
            "image/png": "[encoded data removed]"
          },
          "metadata": {}
        }
      ],
      "source": [
        "figure, axis = plt.subplots(3, 2, figsize=(15, 15))\n",
        "plt.subplots_adjust(hspace=0.25, wspace=0.3)\n",
        "\n",
        "for i, column_name in enumerate(NUM_FEATURE_COLUMNS[:6]):\n",
        "    row = i//2\n",
        "    col = i % 2\n",
        "    bp = sns.barplot(ax=axis[row, col], x=dataset_df['Id'], y=dataset_df[column_name])\n",
        "    bp.set(xticklabels=[])\n",
        "    #bp.set_xticklabels(bp.get_xticklabels(), rotation=90, size = 7)\n",
        "    axis[row, col].set_title(column_name)\n",
        "plt.show()"
      ]
    },
    {
      "cell_type": "markdown",
      "id": "fd416952",
      "metadata": {
        "papermill": {
          "duration": 0.01184,
          "end_time": "2023-06-05T10:07:22.600528",
          "exception": false,
          "start_time": "2023-06-05T10:07:22.588688",
          "status": "completed"
        },
        "tags": [],
        "id": "fd416952"
      },
      "source": [
        "We will also create a list of feature columns that will be used for training. We will drop `Id` from the list since it is not needed."
      ]
    },
    {
      "cell_type": "code",
      "execution_count": 12,
      "id": "a05e2b88",
      "metadata": {
        "execution": {
          "iopub.execute_input": "2023-06-05T10:07:22.627847Z",
          "iopub.status.busy": "2023-06-05T10:07:22.627159Z",
          "iopub.status.idle": "2023-06-05T10:07:22.633046Z",
          "shell.execute_reply": "2023-06-05T10:07:22.631812Z"
        },
        "papermill": {
          "duration": 0.021328,
          "end_time": "2023-06-05T10:07:22.635088",
          "exception": false,
          "start_time": "2023-06-05T10:07:22.613760",
          "status": "completed"
        },
        "tags": [],
        "id": "a05e2b88"
      },
      "outputs": [],
      "source": [
        "FEATURE_COLUMNS = [i for i in dataset_df.columns if i not in [\"Id\"]]"
      ]
    },
    {
      "cell_type": "markdown",
      "id": "be161811",
      "metadata": {
        "papermill": {
          "duration": 0.011717,
          "end_time": "2023-06-05T10:07:22.658578",
          "exception": false,
          "start_time": "2023-06-05T10:07:22.646861",
          "status": "completed"
        },
        "tags": [],
        "id": "be161811"
      },
      "source": [
        "Now let us split the dataset into training and testing datasets:"
      ]
    },
    {
      "cell_type": "markdown",
      "id": "ebb8e4c1",
      "metadata": {
        "papermill": {
          "duration": 0.011275,
          "end_time": "2023-06-05T10:07:22.681496",
          "exception": false,
          "start_time": "2023-06-05T10:07:22.670221",
          "status": "completed"
        },
        "tags": [],
        "id": "ebb8e4c1"
      },
      "source": [
        "## KFold validation\n",
        "\n",
        "We will use KFold cross validation for training this model since the normal train/test split training won't be enough to acheive decent score.\n",
        "\n",
        "We will split the dataset into 5 consecutive folds. Each fold is then used once as a validation set while the 4 (5-1) remaining folds form the training set."
      ]
    },
    {
      "cell_type": "code",
      "execution_count": 13,
      "id": "63150ebd",
      "metadata": {
        "execution": {
          "iopub.execute_input": "2023-06-05T10:07:22.708211Z",
          "iopub.status.busy": "2023-06-05T10:07:22.707785Z",
          "iopub.status.idle": "2023-06-05T10:07:22.713271Z",
          "shell.execute_reply": "2023-06-05T10:07:22.711938Z"
        },
        "papermill": {
          "duration": 0.022761,
          "end_time": "2023-06-05T10:07:22.716088",
          "exception": false,
          "start_time": "2023-06-05T10:07:22.693327",
          "status": "completed"
        },
        "tags": [],
        "id": "63150ebd"
      },
      "outputs": [],
      "source": [
        "# Creates a GroupKFold with 5 splits\n",
        "kf = KFold(n_splits=5)"
      ]
    },
    {
      "cell_type": "markdown",
      "id": "fd071faa",
      "metadata": {
        "papermill": {
          "duration": 0.010501,
          "end_time": "2023-06-05T10:07:22.737964",
          "exception": false,
          "start_time": "2023-06-05T10:07:22.727463",
          "status": "completed"
        },
        "tags": [],
        "id": "fd071faa"
      },
      "source": [
        "## Out of Fold (OOF)\n",
        "\n",
        "During KFold cross validation, the predictions made on the test set of each fold is known as Out of Fold(OOF) predictions. We will estimate the performance of the model using the predictions made across all the k (5 in this example) folds.\n",
        "\n",
        "For our training loop, we will create a pandas dataframe named `oof` to store the predictions of the validation set during each fold."
      ]
    },
    {
      "cell_type": "code",
      "execution_count": 14,
      "id": "3a073ce6",
      "metadata": {
        "execution": {
          "iopub.execute_input": "2023-06-05T10:07:22.764945Z",
          "iopub.status.busy": "2023-06-05T10:07:22.764538Z",
          "iopub.status.idle": "2023-06-05T10:07:22.771959Z",
          "shell.execute_reply": "2023-06-05T10:07:22.770112Z"
        },
        "papermill": {
          "duration": 0.023383,
          "end_time": "2023-06-05T10:07:22.774169",
          "exception": false,
          "start_time": "2023-06-05T10:07:22.750786",
          "status": "completed"
        },
        "tags": [],
        "id": "3a073ce6"
      },
      "outputs": [],
      "source": [
        "# Create list of ids for the creation of oof dataframe.\n",
        "ID_LIST = dataset_df.index\n",
        "\n",
        "# Create a dataframe of required size with zero values.\n",
        "oof = pd.DataFrame(data=np.zeros((len(ID_LIST),1)), index=ID_LIST)\n",
        "\n",
        "# Create an empty dictionary to store the models trained for each fold.\n",
        "models = {}\n",
        "\n",
        "# Create empty dict to save metircs for the models trained for each fold.\n",
        "accuracy = {}\n",
        "cross_entropy = {}\n",
        "\n",
        "# Save the name of the label column to a variable.\n",
        "label = \"Class\""
      ]
    },
    {
      "cell_type": "markdown",
      "id": "ed9ca72e",
      "metadata": {
        "papermill": {
          "duration": 0.010753,
          "end_time": "2023-06-05T10:07:22.796746",
          "exception": false,
          "start_time": "2023-06-05T10:07:22.785993",
          "status": "completed"
        },
        "tags": [],
        "id": "ed9ca72e"
      },
      "source": [
        "## Select a Model\n",
        "\n",
        "There are several tree-based models for us to choose from.\n",
        "\n",
        "* RandomForestModel\n",
        "* GradientBoostedTreesModel\n",
        "* CartModel\n",
        "* DistributedGradientBoostedTreesModel"
      ]
    },
    {
      "cell_type": "code",
      "execution_count": 15,
      "id": "38294699",
      "metadata": {
        "execution": {
          "iopub.execute_input": "2023-06-05T10:07:22.820826Z",
          "iopub.status.busy": "2023-06-05T10:07:22.820223Z",
          "iopub.status.idle": "2023-06-05T10:07:22.826783Z",
          "shell.execute_reply": "2023-06-05T10:07:22.825878Z"
        },
        "papermill": {
          "duration": 0.020974,
          "end_time": "2023-06-05T10:07:22.828747",
          "exception": false,
          "start_time": "2023-06-05T10:07:22.807773",
          "status": "completed"
        },
        "tags": [],
        "colab": {
          "base_uri": "https://localhost:8080/"
        },
        "id": "38294699",
        "outputId": "cd479652-d2b4-400a-c865-dc5530f52c85"
      },
      "outputs": [
        {
          "output_type": "execute_result",
          "data": {
            "text/plain": [
              "[tensorflow_decision_forests.keras.RandomForestModel,\n",
              " tensorflow_decision_forests.keras.GradientBoostedTreesModel,\n",
              " tensorflow_decision_forests.keras.CartModel,\n",
              " tensorflow_decision_forests.keras.DistributedGradientBoostedTreesModel]"
            ]
          },
          "metadata": {},
          "execution_count": 15
        }
      ],
      "source": [
        "tfdf.keras.get_all_models()"
      ]
    },
    {
      "cell_type": "markdown",
      "id": "a71356c0",
      "metadata": {
        "papermill": {
          "duration": 0.011792,
          "end_time": "2023-06-05T10:07:22.853814",
          "exception": false,
          "start_time": "2023-06-05T10:07:22.842022",
          "status": "completed"
        },
        "tags": [],
        "id": "a71356c0"
      },
      "source": [
        "# How can I configure them?\n",
        "\n",
        "TensorFlow Decision Forests provides good defaults for you (e.g. the top ranking hyperparameters on our benchmarks, slightly modified to run in reasonable time). If you would like to configure the learning algorithm, you will find many options you can explore to get a better score.\n",
        "\n",
        "You can select a template and/or set parameters as follows:\n",
        "\n",
        "```rf = tfdf.keras.RandomForestModel(hyperparameter_template=\"benchmark_rank1\")```"
      ]
    },
    {
      "cell_type": "markdown",
      "id": "d6d1a1cf",
      "metadata": {
        "papermill": {
          "duration": 0.011569,
          "end_time": "2023-06-05T10:07:22.877579",
          "exception": false,
          "start_time": "2023-06-05T10:07:22.866010",
          "status": "completed"
        },
        "tags": [],
        "id": "d6d1a1cf"
      },
      "source": [
        "# Hyperparameter tuning to avoid overfitting\n",
        "\n",
        "Because of the smaller size of the dataset, it is likely that the model will overfit during training.\n",
        "Numerous parameters, primarily `max_depth` and `num_trees` can be changed to fine-tune the model and prevent overfitting.\n",
        "\n",
        "The attribute`max_depth` indicates the maximum depth of the tree. To avoid overfitting, we can try to reduce the depth of the tree from it's default value, which is `16`. Another way to tackle overfitting is to increase the number of individual decision trees. To do this, we have to increase the value of the parameter `num_trees` from its default value(`300`).\n",
        "\n",
        "You can set these parameters as follows:\n",
        "\n",
        "```rf = tfdf.keras.RandomForestModel(max_depth=5, num_trees=500)```"
      ]
    },
    {
      "cell_type": "markdown",
      "id": "dd530b96",
      "metadata": {
        "papermill": {
          "duration": 0.011666,
          "end_time": "2023-06-05T10:07:22.901188",
          "exception": false,
          "start_time": "2023-06-05T10:07:22.889522",
          "status": "completed"
        },
        "tags": [],
        "id": "dd530b96"
      },
      "source": [
        "## Strategies to handle the dataset imbalance\n",
        "\n",
        "Let's examine the fraction of positive and negative samples in this dataset's  by examining the`Class` column."
      ]
    },
    {
      "cell_type": "code",
      "execution_count": 16,
      "id": "6f83ab19",
      "metadata": {
        "execution": {
          "iopub.execute_input": "2023-06-05T10:07:22.926377Z",
          "iopub.status.busy": "2023-06-05T10:07:22.926017Z",
          "iopub.status.idle": "2023-06-05T10:07:22.932747Z",
          "shell.execute_reply": "2023-06-05T10:07:22.930967Z"
        },
        "papermill": {
          "duration": 0.022113,
          "end_time": "2023-06-05T10:07:22.935221",
          "exception": false,
          "start_time": "2023-06-05T10:07:22.913108",
          "status": "completed"
        },
        "tags": [],
        "colab": {
          "base_uri": "https://localhost:8080/"
        },
        "id": "6f83ab19",
        "outputId": "4699b095-0ee0-426c-b555-cee0b6987d96"
      },
      "outputs": [
        {
          "output_type": "stream",
          "name": "stdout",
          "text": [
            "Examples:\n",
            "    Total: 617\n",
            "    Positive: 108 (17.50% of total)\n",
            "\n"
          ]
        }
      ],
      "source": [
        "# Calculate the number of negative and positive values in `Class` column\n",
        "neg, pos = np.bincount(dataset_df['Class'])\n",
        "# Calculate total samples\n",
        "total = neg + pos\n",
        "print('Examples:\\n    Total: {}\\n    Positive: {} ({:.2f}% of total)\\n'.format(\n",
        "    total, pos, 100 * pos / total))"
      ]
    },
    {
      "cell_type": "markdown",
      "id": "fd9c128d",
      "metadata": {
        "papermill": {
          "duration": 0.010919,
          "end_time": "2023-06-05T10:07:22.958506",
          "exception": false,
          "start_time": "2023-06-05T10:07:22.947587",
          "status": "completed"
        },
        "tags": [],
        "id": "fd9c128d"
      },
      "source": [
        "As we can see, positive samples only account for 17.50% of the data. This means that our datastet is heavily imbalanced.\n",
        "\n",
        "In classification problems with imbalanced datasets, a model tends to be more biased towards the majority class leading to the model performing poorly on the samples belonging to the minority class."
      ]
    },
    {
      "cell_type": "markdown",
      "id": "a8761470",
      "metadata": {
        "papermill": {
          "duration": 0.011019,
          "end_time": "2023-06-05T10:07:22.980750",
          "exception": false,
          "start_time": "2023-06-05T10:07:22.969731",
          "status": "completed"
        },
        "tags": [],
        "id": "a8761470"
      },
      "source": [
        "There are many techniques for dealing with imbalanced data. The most suitable techniques for this dataset are:\n",
        "\n",
        "* Undersampling\n",
        "* Class weighting\n",
        "\n",
        "In this notebook we will use **Class weighting** to deal with imbalanced data. But first, we will quickly outline how undersampling can be performed."
      ]
    },
    {
      "cell_type": "markdown",
      "id": "1c5bec34",
      "metadata": {
        "papermill": {
          "duration": 0.011192,
          "end_time": "2023-06-05T10:07:23.003058",
          "exception": false,
          "start_time": "2023-06-05T10:07:22.991866",
          "status": "completed"
        },
        "tags": [],
        "id": "1c5bec34"
      },
      "source": [
        "# Undersampling\n",
        "\n",
        "One approach to deal with an imbalanced dataset would be to under-sample the majority class(es) by choosing a smaller subset of the majority class samples(negative or `0` class in this case) from the dataset rather than picking the entire data.\n",
        "\n",
        "Note: We have to loop through the dataset and try different random subsets for a better score.\n",
        "\n",
        "The code snippet below illustrates how to perform undersampling.\n",
        "\n",
        "```\n",
        "# This function generates undersampled dataset.\n",
        "def random_under_sampler(df):\n",
        "    # Calculate the number of samples for each label.\n",
        "    neg, pos = np.bincount(df['Class'])\n",
        "\n",
        "    # Choose the samples with class label `1`.\n",
        "    one_df = df.loc[df['Class'] == 1]\n",
        "    # Choose the samples with class label `0`.\n",
        "    zero_df = df.loc[df['Class'] == 0]\n",
        "    # Select `pos` number of negative samples.\n",
        "    # This makes sure that we have equal number of samples for each label.\n",
        "    zero_df = zero_df.sample(n=pos)\n",
        "\n",
        "    # Join both label dataframes.\n",
        "    undersampled_df = pd.concat([zero_df, one_df])\n",
        "\n",
        "    # Shuffle the data and return\n",
        "    return undersampled_df.sample(frac = 1)\n",
        "```"
      ]
    },
    {
      "cell_type": "markdown",
      "id": "3cedf05d",
      "metadata": {
        "papermill": {
          "duration": 0.011687,
          "end_time": "2023-06-05T10:07:23.028226",
          "exception": false,
          "start_time": "2023-06-05T10:07:23.016539",
          "status": "completed"
        },
        "tags": [],
        "id": "3cedf05d"
      },
      "source": [
        "# Class weighting\n",
        "\n",
        "Since the postive(`1`) `Class` labels are only a small fraction of the dataset, we would want the classifier to heavily weight those examples. You can do this by passing **Keras weights** for each class through a parameter. This will cause the model to \"pay more attention\" to examples from an under-represented class."
      ]
    },
    {
      "cell_type": "code",
      "execution_count": 17,
      "id": "607e6066",
      "metadata": {
        "execution": {
          "iopub.execute_input": "2023-06-05T10:07:23.055826Z",
          "iopub.status.busy": "2023-06-05T10:07:23.055438Z",
          "iopub.status.idle": "2023-06-05T10:07:23.064334Z",
          "shell.execute_reply": "2023-06-05T10:07:23.062776Z"
        },
        "papermill": {
          "duration": 0.027782,
          "end_time": "2023-06-05T10:07:23.068319",
          "exception": false,
          "start_time": "2023-06-05T10:07:23.040537",
          "status": "completed"
        },
        "tags": [],
        "colab": {
          "base_uri": "https://localhost:8080/"
        },
        "id": "607e6066",
        "outputId": "e680a5a2-338f-4d4b-b751-418cce0cf9a1"
      },
      "outputs": [
        {
          "output_type": "stream",
          "name": "stdout",
          "text": [
            "Weight for class 0: 0.61\n",
            "Weight for class 1: 2.86\n"
          ]
        }
      ],
      "source": [
        "# Calculate the number of samples for each label.\n",
        "neg, pos = np.bincount(dataset_df['Class'])\n",
        "\n",
        "# Calculate total samples.\n",
        "total = neg + pos\n",
        "\n",
        "# Calculate the weight for each label.\n",
        "weight_for_0 = (1 / neg) * (total / 2.0)\n",
        "weight_for_1 = (1 / pos) * (total / 2.0)\n",
        "\n",
        "class_weight = {0: weight_for_0, 1: weight_for_1}\n",
        "\n",
        "print('Weight for class 0: {:.2f}'.format(weight_for_0))\n",
        "print('Weight for class 1: {:.2f}'.format(weight_for_1))"
      ]
    },
    {
      "cell_type": "markdown",
      "id": "00834fc6",
      "metadata": {
        "papermill": {
          "duration": 0.012678,
          "end_time": "2023-06-05T10:07:23.095382",
          "exception": false,
          "start_time": "2023-06-05T10:07:23.082704",
          "status": "completed"
        },
        "tags": [],
        "id": "00834fc6"
      },
      "source": [
        "To train and evaluate the models using class weights, use the dict in model.fit() as an argument as shown below.\n",
        "\n",
        "```model.fit(x=train_ds, class_weight=class_weight)```"
      ]
    },
    {
      "cell_type": "markdown",
      "id": "c78bc14e",
      "metadata": {
        "papermill": {
          "duration": 0.012648,
          "end_time": "2023-06-05T10:07:23.122094",
          "exception": false,
          "start_time": "2023-06-05T10:07:23.109446",
          "status": "completed"
        },
        "tags": [],
        "id": "c78bc14e"
      },
      "source": [
        "## Training on Random Forest Model\n",
        "\n",
        "We will use the defaults to create the Random Forest Model. By default the model is set to train for a classification task.\n",
        "We will train a model for each fold and after training we will store the model and metrics. Here, we have chosen `accuracy` and `binary_crossentropy` as the metrics."
      ]
    },
    {
      "cell_type": "code",
      "execution_count": 18,
      "id": "944c2df3",
      "metadata": {
        "execution": {
          "iopub.execute_input": "2023-06-05T10:07:23.153345Z",
          "iopub.status.busy": "2023-06-05T10:07:23.152482Z",
          "iopub.status.idle": "2023-06-05T10:07:41.455304Z",
          "shell.execute_reply": "2023-06-05T10:07:41.454386Z"
        },
        "papermill": {
          "duration": 18.323491,
          "end_time": "2023-06-05T10:07:41.457980",
          "exception": false,
          "start_time": "2023-06-05T10:07:23.134489",
          "status": "completed"
        },
        "tags": [],
        "colab": {
          "base_uri": "https://localhost:8080/"
        },
        "id": "944c2df3",
        "outputId": "1c76ea84-b591-406c-e3b7-8a429079a406"
      },
      "outputs": [
        {
          "output_type": "stream",
          "name": "stdout",
          "text": [
            "##### Fold 1\n",
            "Warning: Some of the feature names have been changed automatically to be compatible with SavedModels because fix_feature_names=True.\n"
          ]
        },
        {
          "output_type": "stream",
          "name": "stderr",
          "text": [
            "WARNING:absl:Some of the feature names have been changed automatically to be compatible with SavedModels because fix_feature_names=True.\n"
          ]
        },
        {
          "output_type": "stream",
          "name": "stdout",
          "text": [
            "Warning: Some of the feature names have been changed automatically to be compatible with SavedModels because fix_feature_names=True.\n"
          ]
        },
        {
          "output_type": "stream",
          "name": "stderr",
          "text": [
            "WARNING:absl:Some of the feature names have been changed automatically to be compatible with SavedModels because fix_feature_names=True.\n"
          ]
        },
        {
          "output_type": "stream",
          "name": "stdout",
          "text": [
            "Use /tmp/tmp02hj6t56 as temporary training directory\n",
            "Reading training dataset...\n",
            "Training dataset read in 0:00:08.927773. Found 493 examples.\n",
            "Training model...\n",
            "Model trained in 0:00:00.428724\n",
            "Compiling model...\n",
            "Model compiled.\n",
            "1/1 [==============================] - 0s 127ms/step\n",
            "1/1 [==============================] - 1s 616ms/step - loss: 0.0000e+00 - accuracy: 0.9516 - binary_crossentropy: 0.2182\n",
            "##### Fold 2\n",
            "Warning: Some of the feature names have been changed automatically to be compatible with SavedModels because fix_feature_names=True.\n"
          ]
        },
        {
          "output_type": "stream",
          "name": "stderr",
          "text": [
            "WARNING:absl:Some of the feature names have been changed automatically to be compatible with SavedModels because fix_feature_names=True.\n"
          ]
        },
        {
          "output_type": "stream",
          "name": "stdout",
          "text": [
            "Warning: Some of the feature names have been changed automatically to be compatible with SavedModels because fix_feature_names=True.\n"
          ]
        },
        {
          "output_type": "stream",
          "name": "stderr",
          "text": [
            "WARNING:absl:Some of the feature names have been changed automatically to be compatible with SavedModels because fix_feature_names=True.\n"
          ]
        },
        {
          "output_type": "stream",
          "name": "stdout",
          "text": [
            "Use /tmp/tmpdhijbtb0 as temporary training directory\n",
            "Reading training dataset...\n",
            "Training dataset read in 0:00:01.016624. Found 493 examples.\n",
            "Training model...\n",
            "Model trained in 0:00:00.527219\n",
            "Compiling model...\n",
            "Model compiled.\n",
            "1/1 [==============================] - 0s 235ms/step\n",
            "1/1 [==============================] - 1s 591ms/step - loss: 0.0000e+00 - accuracy: 0.8790 - binary_crossentropy: 0.2608\n",
            "##### Fold 3\n",
            "Warning: Some of the feature names have been changed automatically to be compatible with SavedModels because fix_feature_names=True.\n"
          ]
        },
        {
          "output_type": "stream",
          "name": "stderr",
          "text": [
            "WARNING:absl:Some of the feature names have been changed automatically to be compatible with SavedModels because fix_feature_names=True.\n"
          ]
        },
        {
          "output_type": "stream",
          "name": "stdout",
          "text": [
            "Warning: Some of the feature names have been changed automatically to be compatible with SavedModels because fix_feature_names=True.\n"
          ]
        },
        {
          "output_type": "stream",
          "name": "stderr",
          "text": [
            "WARNING:absl:Some of the feature names have been changed automatically to be compatible with SavedModels because fix_feature_names=True.\n"
          ]
        },
        {
          "output_type": "stream",
          "name": "stdout",
          "text": [
            "Use /tmp/tmpm1skgf13 as temporary training directory\n",
            "Reading training dataset...\n",
            "Training dataset read in 0:00:01.256112. Found 494 examples.\n",
            "Training model...\n",
            "Model trained in 0:00:00.509133\n",
            "Compiling model...\n"
          ]
        },
        {
          "output_type": "stream",
          "name": "stderr",
          "text": [
            "WARNING:tensorflow:5 out of the last 5 calls to <function InferenceCoreModel.make_predict_function.<locals>.predict_function_trained at 0x7e47f4f33760> triggered tf.function retracing. Tracing is expensive and the excessive number of tracings could be due to (1) creating @tf.function repeatedly in a loop, (2) passing tensors with different shapes, (3) passing Python objects instead of tensors. For (1), please define your @tf.function outside of the loop. For (2), @tf.function has reduce_retracing=True option that can avoid unnecessary retracing. For (3), please refer to https://www.tensorflow.org/guide/function#controlling_retracing and https://www.tensorflow.org/api_docs/python/tf/function for  more details.\n"
          ]
        },
        {
          "output_type": "stream",
          "name": "stdout",
          "text": [
            "Model compiled.\n"
          ]
        },
        {
          "output_type": "stream",
          "name": "stderr",
          "text": [
            "WARNING:tensorflow:6 out of the last 6 calls to <function InferenceCoreModel.make_predict_function.<locals>.predict_function_trained at 0x7e47f47e9870> triggered tf.function retracing. Tracing is expensive and the excessive number of tracings could be due to (1) creating @tf.function repeatedly in a loop, (2) passing tensors with different shapes, (3) passing Python objects instead of tensors. For (1), please define your @tf.function outside of the loop. For (2), @tf.function has reduce_retracing=True option that can avoid unnecessary retracing. For (3), please refer to https://www.tensorflow.org/guide/function#controlling_retracing and https://www.tensorflow.org/api_docs/python/tf/function for  more details.\n"
          ]
        },
        {
          "output_type": "stream",
          "name": "stdout",
          "text": [
            "1/1 [==============================] - 0s 132ms/step\n",
            "1/1 [==============================] - 1s 774ms/step - loss: 0.0000e+00 - accuracy: 0.9024 - binary_crossentropy: 0.2741\n",
            "##### Fold 4\n",
            "Warning: Some of the feature names have been changed automatically to be compatible with SavedModels because fix_feature_names=True.\n"
          ]
        },
        {
          "output_type": "stream",
          "name": "stderr",
          "text": [
            "WARNING:absl:Some of the feature names have been changed automatically to be compatible with SavedModels because fix_feature_names=True.\n"
          ]
        },
        {
          "output_type": "stream",
          "name": "stdout",
          "text": [
            "Warning: Some of the feature names have been changed automatically to be compatible with SavedModels because fix_feature_names=True.\n"
          ]
        },
        {
          "output_type": "stream",
          "name": "stderr",
          "text": [
            "WARNING:absl:Some of the feature names have been changed automatically to be compatible with SavedModels because fix_feature_names=True.\n"
          ]
        },
        {
          "output_type": "stream",
          "name": "stdout",
          "text": [
            "Use /tmp/tmpt3y40yaa as temporary training directory\n",
            "Reading training dataset...\n",
            "Training dataset read in 0:00:02.846521. Found 494 examples.\n",
            "Training model...\n",
            "Model trained in 0:00:00.730213\n",
            "Compiling model...\n",
            "Model compiled.\n",
            "1/1 [==============================] - 0s 214ms/step\n",
            "1/1 [==============================] - 1s 577ms/step - loss: 0.0000e+00 - accuracy: 0.9024 - binary_crossentropy: 0.2717\n",
            "##### Fold 5\n",
            "Warning: Some of the feature names have been changed automatically to be compatible with SavedModels because fix_feature_names=True.\n"
          ]
        },
        {
          "output_type": "stream",
          "name": "stderr",
          "text": [
            "WARNING:absl:Some of the feature names have been changed automatically to be compatible with SavedModels because fix_feature_names=True.\n"
          ]
        },
        {
          "output_type": "stream",
          "name": "stdout",
          "text": [
            "Warning: Some of the feature names have been changed automatically to be compatible with SavedModels because fix_feature_names=True.\n"
          ]
        },
        {
          "output_type": "stream",
          "name": "stderr",
          "text": [
            "WARNING:absl:Some of the feature names have been changed automatically to be compatible with SavedModels because fix_feature_names=True.\n"
          ]
        },
        {
          "output_type": "stream",
          "name": "stdout",
          "text": [
            "Use /tmp/tmpjp_phdrc as temporary training directory\n",
            "Reading training dataset...\n"
          ]
        },
        {
          "output_type": "stream",
          "name": "stderr",
          "text": [
            "WARNING:tensorflow:5 out of the last 5 calls to <function CoreModel._consumes_training_examples_until_eof at 0x7e4808b12440> triggered tf.function retracing. Tracing is expensive and the excessive number of tracings could be due to (1) creating @tf.function repeatedly in a loop, (2) passing tensors with different shapes, (3) passing Python objects instead of tensors. For (1), please define your @tf.function outside of the loop. For (2), @tf.function has reduce_retracing=True option that can avoid unnecessary retracing. For (3), please refer to https://www.tensorflow.org/guide/function#controlling_retracing and https://www.tensorflow.org/api_docs/python/tf/function for  more details.\n"
          ]
        },
        {
          "output_type": "stream",
          "name": "stdout",
          "text": [
            "Training dataset read in 0:00:01.091784. Found 494 examples.\n",
            "Training model...\n",
            "Model trained in 0:00:00.418390\n",
            "Compiling model...\n",
            "Model compiled.\n"
          ]
        },
        {
          "output_type": "stream",
          "name": "stderr",
          "text": [
            "WARNING:tensorflow:5 out of the last 5 calls to <function InferenceCoreModel.yggdrasil_model_path_tensor at 0x7e47f53de290> triggered tf.function retracing. Tracing is expensive and the excessive number of tracings could be due to (1) creating @tf.function repeatedly in a loop, (2) passing tensors with different shapes, (3) passing Python objects instead of tensors. For (1), please define your @tf.function outside of the loop. For (2), @tf.function has reduce_retracing=True option that can avoid unnecessary retracing. For (3), please refer to https://www.tensorflow.org/guide/function#controlling_retracing and https://www.tensorflow.org/api_docs/python/tf/function for  more details.\n"
          ]
        },
        {
          "output_type": "stream",
          "name": "stdout",
          "text": [
            "1/1 [==============================] - 0s 128ms/step\n"
          ]
        },
        {
          "output_type": "stream",
          "name": "stderr",
          "text": [
            "WARNING:tensorflow:5 out of the last 5 calls to <function InferenceCoreModel.make_test_function.<locals>.test_function at 0x7e47f53df2e0> triggered tf.function retracing. Tracing is expensive and the excessive number of tracings could be due to (1) creating @tf.function repeatedly in a loop, (2) passing tensors with different shapes, (3) passing Python objects instead of tensors. For (1), please define your @tf.function outside of the loop. For (2), @tf.function has reduce_retracing=True option that can avoid unnecessary retracing. For (3), please refer to https://www.tensorflow.org/guide/function#controlling_retracing and https://www.tensorflow.org/api_docs/python/tf/function for  more details.\n"
          ]
        },
        {
          "output_type": "stream",
          "name": "stdout",
          "text": [
            "1/1 [==============================] - 0s 377ms/step - loss: 0.0000e+00 - accuracy: 0.9512 - binary_crossentropy: 0.2172\n"
          ]
        }
      ],
      "source": [
        "# Loop through each fold\n",
        "for i, (train_index, valid_index) in enumerate(kf.split(X=dataset_df)):\n",
        "        print('##### Fold',i+1)\n",
        "\n",
        "        # Fetch values corresponding to the index\n",
        "        train_df = dataset_df.iloc[train_index]\n",
        "        valid_df = dataset_df.iloc[valid_index]\n",
        "        valid_ids = valid_df.index.values\n",
        "\n",
        "        # Select only feature columns for training.\n",
        "        train_df = train_df[FEATURE_COLUMNS]\n",
        "        valid_df = valid_df[FEATURE_COLUMNS]\n",
        "\n",
        "        # There's one more step required before we can train the model.\n",
        "        # We need to convert the datatset from Pandas format (pd.DataFrame)\n",
        "        # into TensorFlow Datasets format (tf.data.Dataset).\n",
        "        # TensorFlow Datasets is a high performance data loading library\n",
        "        # which is helpful when training neural networks with accelerators like GPUs and TPUs.\n",
        "        # Note: Some column names contains white spaces at the end of their name,\n",
        "        # which is non-comaptible with SavedModels save format.\n",
        "        # By default, `pd_dataframe_to_tf_dataset` function will convert\n",
        "        # this column names into a compatible format.\n",
        "        # So you can safely ignore the warnings related to this.\n",
        "        train_ds = tfdf.keras.pd_dataframe_to_tf_dataset(train_df, label=label)\n",
        "        valid_ds = tfdf.keras.pd_dataframe_to_tf_dataset(valid_df, label=label)\n",
        "\n",
        "        # Define the model and metrics\n",
        "        rf = tfdf.keras.RandomForestModel()\n",
        "        rf.compile(metrics=[\"accuracy\", \"binary_crossentropy\"])\n",
        "\n",
        "        # Train the model\n",
        "        # We will train the model using a one-liner.\n",
        "        # Note: you may see a warning about Autograph.\n",
        "        # You can safely ignore this, it will be fixed in the next release.\n",
        "        # Previously calculated class weights is used to handle imbalance.\n",
        "        rf.fit(x=train_ds, class_weight=class_weight)\n",
        "\n",
        "        # Store the model\n",
        "        models[f\"fold_{i+1}\"] = rf\n",
        "\n",
        "\n",
        "        # Predict OOF value for validation data\n",
        "        predict = rf.predict(x=valid_ds)\n",
        "\n",
        "        # Store the predictions in oof dataframe\n",
        "        oof.loc[valid_ids, 0] = predict.flatten()\n",
        "\n",
        "        # Evaluate and store the metrics in respective dicts\n",
        "        evaluation = rf.evaluate(x=valid_ds,return_dict=True)\n",
        "        accuracy[f\"fold_{i+1}\"] = evaluation[\"accuracy\"]\n",
        "        cross_entropy[f\"fold_{i+1}\"]= evaluation[\"binary_crossentropy\"]"
      ]
    },
    {
      "cell_type": "markdown",
      "id": "5ba61b46",
      "metadata": {
        "papermill": {
          "duration": 0.016015,
          "end_time": "2023-06-05T10:07:41.490218",
          "exception": false,
          "start_time": "2023-06-05T10:07:41.474203",
          "status": "completed"
        },
        "tags": [],
        "id": "5ba61b46"
      },
      "source": [
        "## Visualizing the model\n",
        "\n",
        "One benefit of tree-based models is that we can easily visualize them. The default number of trees used in the Random Forests is 300. We can select any tree for display.\n",
        "\n",
        "Let us pick one model from the `models` dict and select a tree for display."
      ]
    },
    {
      "cell_type": "code",
      "execution_count": 21,
      "id": "9ef25992",
      "metadata": {
        "execution": {
          "iopub.execute_input": "2023-06-05T10:07:41.524686Z",
          "iopub.status.busy": "2023-06-05T10:07:41.523674Z",
          "iopub.status.idle": "2023-06-05T10:07:41.537371Z",
          "shell.execute_reply": "2023-06-05T10:07:41.536431Z"
        },
        "papermill": {
          "duration": 0.033159,
          "end_time": "2023-06-05T10:07:41.539260",
          "exception": false,
          "start_time": "2023-06-05T10:07:41.506101",
          "status": "completed"
        },
        "tags": [],
        "colab": {
          "base_uri": "https://localhost:8080/",
          "height": 552
        },
        "id": "9ef25992",
        "outputId": "78ca8363-4bdd-4f49-a1ca-ad24fe0e3167"
      },
      "outputs": [
        {
          "output_type": "execute_result",
          "data": {
            "text/plain": [
              "<IPython.core.display.HTML object>"
            ],
            "text/html": [
              "\n",
              "<script src=\"https://d3js.org/d3.v6.min.js\"></script>\n",
              "<div id=\"tree_plot_6ebb97442a2f4804b9423a969832c8d9\"></div>\n",
              "<script>\n",
              "/*\n",
              " * Copyright 2021 Google LLC.\n",
              " * Licensed under the Apache License, Version 2.0 (the \"License\");\n",
              " * you may not use this file except in compliance with the License.\n",
              " * You may obtain a copy of the License at\n",
              " *\n",
              " *     https://www.apache.org/licenses/LICENSE-2.0\n",
              " *\n",
              " * Unless required by applicable law or agreed to in writing, software\n",
              " * distributed under the License is distributed on an \"AS IS\" BASIS,\n",
              " * WITHOUT WARRANTIES OR CONDITIONS OF ANY KIND, either express or implied.\n",
              " * See the License for the specific language governing permissions and\n",
              " * limitations under the License.\n",
              " */\n",
              "\n",
              "/**\n",
              " *  Plotting of decision trees generated by TF-DF.\n",
              " *\n",
              " *  A tree is a recursive structure of node objects.\n",
              " *  A node contains one or more of the following components:\n",
              " *\n",
              " *    - A value: Representing the output of the node. If the node is not a leaf,\n",
              " *      the value is only present for analysis i.e. it is not used for\n",
              " *      predictions.\n",
              " *\n",
              " *    - A condition : For non-leaf nodes, the condition (also known as split)\n",
              " *      defines a binary test to branch to the positive or negative child.\n",
              " *\n",
              " *    - An explanation: Generally a plot showing the relation between the label\n",
              " *      and the condition to give insights about the effect of the condition.\n",
              " *\n",
              " *    - Two children : For non-leaf nodes, the children nodes. The first\n",
              " *      children (i.e. \"node.children[0]\") is the negative children (drawn in\n",
              " *      red). The second children is the positive one (drawn in green).\n",
              " *\n",
              " */\n",
              "\n",
              "/**\n",
              " * Plots a single decision tree into a DOM element.\n",
              " * @param {!options} options Dictionary of configurations.\n",
              " * @param {!tree} raw_tree Recursive tree structure.\n",
              " * @param {string} canvas_id Id of the output dom element.\n",
              " */\n",
              "function display_tree(options, raw_tree, canvas_id) {\n",
              "  console.log(options);\n",
              "\n",
              "  // Determine the node placement.\n",
              "  const tree_struct = d3.tree().nodeSize(\n",
              "      [options.node_y_offset, options.node_x_offset])(d3.hierarchy(raw_tree));\n",
              "\n",
              "  // Boundaries of the node placement.\n",
              "  let x_min = Infinity;\n",
              "  let x_max = -x_min;\n",
              "  let y_min = Infinity;\n",
              "  let y_max = -x_min;\n",
              "\n",
              "  tree_struct.each(d => {\n",
              "    if (d.x > x_max) x_max = d.x;\n",
              "    if (d.x < x_min) x_min = d.x;\n",
              "    if (d.y > y_max) y_max = d.y;\n",
              "    if (d.y < y_min) y_min = d.y;\n",
              "  });\n",
              "\n",
              "  // Size of the plot.\n",
              "  const width = y_max - y_min + options.node_x_size + options.margin * 2;\n",
              "  const height = x_max - x_min + options.node_y_size + options.margin * 2 +\n",
              "      options.node_y_offset - options.node_y_size;\n",
              "\n",
              "  const plot = d3.select(canvas_id);\n",
              "\n",
              "  // Tool tip\n",
              "  options.tooltip = plot.append('div')\n",
              "                        .attr('width', 100)\n",
              "                        .attr('height', 100)\n",
              "                        .style('padding', '4px')\n",
              "                        .style('background', '#fff')\n",
              "                        .style('box-shadow', '4px 4px 0px rgba(0,0,0,0.1)')\n",
              "                        .style('border', '1px solid black')\n",
              "                        .style('font-family', 'sans-serif')\n",
              "                        .style('font-size', options.font_size)\n",
              "                        .style('position', 'absolute')\n",
              "                        .style('z-index', '10')\n",
              "                        .attr('pointer-events', 'none')\n",
              "                        .style('display', 'none');\n",
              "\n",
              "  // Create canvas\n",
              "  const svg = plot.append('svg').attr('width', width).attr('height', height);\n",
              "  const graph =\n",
              "      svg.style('overflow', 'visible')\n",
              "          .append('g')\n",
              "          .attr('font-family', 'sans-serif')\n",
              "          .attr('font-size', options.font_size)\n",
              "          .attr(\n",
              "              'transform',\n",
              "              () => `translate(${options.margin},${\n",
              "                  - x_min + options.node_y_offset / 2 + options.margin})`);\n",
              "\n",
              "  // Plot bounding box.\n",
              "  if (options.show_plot_bounding_box) {\n",
              "    svg.append('rect')\n",
              "        .attr('width', width)\n",
              "        .attr('height', height)\n",
              "        .attr('fill', 'none')\n",
              "        .attr('stroke-width', 1.0)\n",
              "        .attr('stroke', 'black');\n",
              "  }\n",
              "\n",
              "  // Draw the edges.\n",
              "  display_edges(options, graph, tree_struct);\n",
              "\n",
              "  // Draw the nodes.\n",
              "  display_nodes(options, graph, tree_struct);\n",
              "}\n",
              "\n",
              "/**\n",
              " * Draw the nodes of the tree.\n",
              " * @param {!options} options Dictionary of configurations.\n",
              " * @param {!graph} graph D3 search handle containing the graph.\n",
              " * @param {!tree_struct} tree_struct Structure of the tree (node placement,\n",
              " *     data, etc.).\n",
              " */\n",
              "function display_nodes(options, graph, tree_struct) {\n",
              "  const nodes = graph.append('g')\n",
              "                    .selectAll('g')\n",
              "                    .data(tree_struct.descendants())\n",
              "                    .join('g')\n",
              "                    .attr('transform', d => `translate(${d.y},${d.x})`);\n",
              "\n",
              "  nodes.append('rect')\n",
              "      .attr('x', 0.5)\n",
              "      .attr('y', 0.5)\n",
              "      .attr('width', options.node_x_size)\n",
              "      .attr('height', options.node_y_size)\n",
              "      .attr('stroke', 'lightgrey')\n",
              "      .attr('stroke-width', 1)\n",
              "      .attr('fill', 'white')\n",
              "      .attr('y', -options.node_y_size / 2);\n",
              "\n",
              "  // Brackets on the right of condition nodes without children.\n",
              "  non_leaf_node_without_children =\n",
              "      nodes.filter(node => node.data.condition != null && node.children == null)\n",
              "          .append('g')\n",
              "          .attr('transform', `translate(${options.node_x_size},0)`);\n",
              "\n",
              "  non_leaf_node_without_children.append('path')\n",
              "      .attr('d', 'M0,0 C 10,0 0,10 10,10')\n",
              "      .attr('fill', 'none')\n",
              "      .attr('stroke-width', 1.0)\n",
              "      .attr('stroke', '#F00');\n",
              "\n",
              "  non_leaf_node_without_children.append('path')\n",
              "      .attr('d', 'M0,0 C 10,0 0,-10 10,-10')\n",
              "      .attr('fill', 'none')\n",
              "      .attr('stroke-width', 1.0)\n",
              "      .attr('stroke', '#0F0');\n",
              "\n",
              "  const node_content = nodes.append('g').attr(\n",
              "      'transform',\n",
              "      `translate(0,${options.node_padding - options.node_y_size / 2})`);\n",
              "\n",
              "  node_content.append(node => create_node_element(options, node));\n",
              "}\n",
              "\n",
              "/**\n",
              " * Creates the D3 content for a single node.\n",
              " * @param {!options} options Dictionary of configurations.\n",
              " * @param {!node} node Node to draw.\n",
              " * @return {!d3} D3 content.\n",
              " */\n",
              "function create_node_element(options, node) {\n",
              "  // Output accumulator.\n",
              "  let output = {\n",
              "    // Content to draw.\n",
              "    content: d3.create('svg:g'),\n",
              "    // Vertical offset to the next element to draw.\n",
              "    vertical_offset: 0\n",
              "  };\n",
              "\n",
              "  // Conditions.\n",
              "  if (node.data.condition != null) {\n",
              "    display_condition(options, node.data.condition, output);\n",
              "  }\n",
              "\n",
              "  // Values.\n",
              "  if (node.data.value != null) {\n",
              "    display_value(options, node.data.value, output);\n",
              "  }\n",
              "\n",
              "  // Explanations.\n",
              "  if (node.data.explanation != null) {\n",
              "    display_explanation(options, node.data.explanation, output);\n",
              "  }\n",
              "\n",
              "  return output.content.node();\n",
              "}\n",
              "\n",
              "\n",
              "/**\n",
              " * Adds a single line of text inside of a node.\n",
              " * @param {!options} options Dictionary of configurations.\n",
              " * @param {string} text Text to display.\n",
              " * @param {!output} output Output display accumulator.\n",
              " */\n",
              "function display_node_text(options, text, output) {\n",
              "  output.content.append('text')\n",
              "      .attr('x', options.node_padding)\n",
              "      .attr('y', output.vertical_offset)\n",
              "      .attr('alignment-baseline', 'hanging')\n",
              "      .text(text);\n",
              "  output.vertical_offset += 10;\n",
              "}\n",
              "\n",
              "/**\n",
              " * Adds a single line of text inside of a node with a tooltip.\n",
              " * @param {!options} options Dictionary of configurations.\n",
              " * @param {string} text Text to display.\n",
              " * @param {string} tooltip Text in the Tooltip.\n",
              " * @param {!output} output Output display accumulator.\n",
              " */\n",
              "function display_node_text_with_tooltip(options, text, tooltip, output) {\n",
              "  const item = output.content.append('text')\n",
              "                   .attr('x', options.node_padding)\n",
              "                   .attr('alignment-baseline', 'hanging')\n",
              "                   .text(text);\n",
              "\n",
              "  add_tooltip(options, item, () => tooltip);\n",
              "  output.vertical_offset += 10;\n",
              "}\n",
              "\n",
              "/**\n",
              " * Adds a tooltip to a dom element.\n",
              " * @param {!options} options Dictionary of configurations.\n",
              " * @param {!dom} target Dom element to equip with a tooltip.\n",
              " * @param {!func} get_content Generates the html content of the tooltip.\n",
              " */\n",
              "function add_tooltip(options, target, get_content) {\n",
              "  function show(d) {\n",
              "    options.tooltip.style('display', 'block');\n",
              "    options.tooltip.html(get_content());\n",
              "  }\n",
              "\n",
              "  function hide(d) {\n",
              "    options.tooltip.style('display', 'none');\n",
              "  }\n",
              "\n",
              "  function move(d) {\n",
              "    options.tooltip.style('display', 'block');\n",
              "    options.tooltip.style('left', (d.pageX + 5) + 'px');\n",
              "    options.tooltip.style('top', d.pageY + 'px');\n",
              "  }\n",
              "\n",
              "  target.on('mouseover', show);\n",
              "  target.on('mouseout', hide);\n",
              "  target.on('mousemove', move);\n",
              "}\n",
              "\n",
              "/**\n",
              " * Adds a condition inside of a node.\n",
              " * @param {!options} options Dictionary of configurations.\n",
              " * @param {!condition} condition Condition to display.\n",
              " * @param {!output} output Output display accumulator.\n",
              " */\n",
              "function display_condition(options, condition, output) {\n",
              "  threshold_format = d3.format('r');\n",
              "\n",
              "  if (condition.type === 'IS_MISSING') {\n",
              "    display_node_text(options, `${condition.attribute} is missing`, output);\n",
              "    return;\n",
              "  }\n",
              "\n",
              "  if (condition.type === 'IS_TRUE') {\n",
              "    display_node_text(options, `${condition.attribute} is true`, output);\n",
              "    return;\n",
              "  }\n",
              "\n",
              "  if (condition.type === 'NUMERICAL_IS_HIGHER_THAN') {\n",
              "    format = d3.format('r');\n",
              "    display_node_text(\n",
              "        options,\n",
              "        `${condition.attribute} >= ${threshold_format(condition.threshold)}`,\n",
              "        output);\n",
              "    return;\n",
              "  }\n",
              "\n",
              "  if (condition.type === 'CATEGORICAL_IS_IN') {\n",
              "    display_node_text_with_tooltip(\n",
              "        options, `${condition.attribute} in [...]`,\n",
              "        `${condition.attribute} in [${condition.mask}]`, output);\n",
              "    return;\n",
              "  }\n",
              "\n",
              "  if (condition.type === 'CATEGORICAL_SET_CONTAINS') {\n",
              "    display_node_text_with_tooltip(\n",
              "        options, `${condition.attribute} intersect [...]`,\n",
              "        `${condition.attribute} intersect [${condition.mask}]`, output);\n",
              "    return;\n",
              "  }\n",
              "\n",
              "  if (condition.type === 'NUMERICAL_SPARSE_OBLIQUE') {\n",
              "    display_node_text_with_tooltip(\n",
              "        options, `Sparse oblique split...`,\n",
              "        `[${condition.attributes}]*[${condition.weights}]>=${\n",
              "            threshold_format(condition.threshold)}`,\n",
              "        output);\n",
              "    return;\n",
              "  }\n",
              "\n",
              "  display_node_text(\n",
              "      options, `Non supported condition ${condition.type}`, output);\n",
              "}\n",
              "\n",
              "/**\n",
              " * Adds a value inside of a node.\n",
              " * @param {!options} options Dictionary of configurations.\n",
              " * @param {!value} value Value to display.\n",
              " * @param {!output} output Output display accumulator.\n",
              " */\n",
              "function display_value(options, value, output) {\n",
              "  if (value.type === 'PROBABILITY') {\n",
              "    const left_margin = 0;\n",
              "    const right_margin = 50;\n",
              "    const plot_width = options.node_x_size - options.node_padding * 2 -\n",
              "        left_margin - right_margin;\n",
              "\n",
              "    let cusum = Array.from(d3.cumsum(value.distribution));\n",
              "    cusum.unshift(0);\n",
              "    const distribution_plot = output.content.append('g').attr(\n",
              "        'transform', `translate(0,${output.vertical_offset + 0.5})`);\n",
              "\n",
              "    distribution_plot.selectAll('rect')\n",
              "        .data(value.distribution)\n",
              "        .join('rect')\n",
              "        .attr('height', 10)\n",
              "        .attr(\n",
              "            'x',\n",
              "            (d, i) =>\n",
              "                (cusum[i] * plot_width + left_margin + options.node_padding))\n",
              "        .attr('width', (d, i) => d * plot_width)\n",
              "        .style('fill', (d, i) => d3.schemeSet1[i]);\n",
              "\n",
              "    const num_examples =\n",
              "        output.content.append('g')\n",
              "            .attr('transform', `translate(0,${output.vertical_offset})`)\n",
              "            .append('text')\n",
              "            .attr('x', options.node_x_size - options.node_padding)\n",
              "            .attr('alignment-baseline', 'hanging')\n",
              "            .attr('text-anchor', 'end')\n",
              "            .text(`(${value.num_examples})`);\n",
              "\n",
              "    const distribution_details = d3.create('ul');\n",
              "    distribution_details.selectAll('li')\n",
              "        .data(value.distribution)\n",
              "        .join('li')\n",
              "        .append('span')\n",
              "        .text(\n",
              "            (d, i) =>\n",
              "                'class ' + i + ': ' + d3.format('.3%')(value.distribution[i]));\n",
              "\n",
              "    add_tooltip(options, distribution_plot, () => distribution_details.html());\n",
              "    add_tooltip(options, num_examples, () => 'Number of examples');\n",
              "\n",
              "    output.vertical_offset += 10;\n",
              "    return;\n",
              "  }\n",
              "\n",
              "  if (value.type === 'REGRESSION') {\n",
              "    display_node_text(\n",
              "        options,\n",
              "        'value: ' + d3.format('r')(value.value) + ` (` +\n",
              "            d3.format('.6')(value.num_examples) + `)`,\n",
              "        output);\n",
              "    return;\n",
              "  }\n",
              "\n",
              "  if (value.type === 'UPLIFT') {\n",
              "    display_node_text(\n",
              "        options,\n",
              "        'effect: ' + d3.format('r')(value.treatment_effect) + ` (` +\n",
              "            d3.format('.6')(value.num_examples) + `)`,\n",
              "        output);\n",
              "    return;\n",
              "  }\n",
              "\n",
              "  display_node_text(options, `Non supported value ${value.type}`, output);\n",
              "}\n",
              "\n",
              "/**\n",
              " * Adds an explanation inside of a node.\n",
              " * @param {!options} options Dictionary of configurations.\n",
              " * @param {!explanation} explanation Explanation to display.\n",
              " * @param {!output} output Output display accumulator.\n",
              " */\n",
              "function display_explanation(options, explanation, output) {\n",
              "  // Margin before the explanation.\n",
              "  output.vertical_offset += 10;\n",
              "\n",
              "  display_node_text(\n",
              "      options, `Non supported explanation ${explanation.type}`, output);\n",
              "}\n",
              "\n",
              "\n",
              "/**\n",
              " * Draw the edges of the tree.\n",
              " * @param {!options} options Dictionary of configurations.\n",
              " * @param {!graph} graph D3 search handle containing the graph.\n",
              " * @param {!tree_struct} tree_struct Structure of the tree (node placement,\n",
              " *     data, etc.).\n",
              " */\n",
              "function display_edges(options, graph, tree_struct) {\n",
              "  // Draw an edge between a parent and a child node with a bezier.\n",
              "  function draw_single_edge(d) {\n",
              "    return 'M' + (d.source.y + options.node_x_size) + ',' + d.source.x + ' C' +\n",
              "        (d.source.y + options.node_x_size + options.edge_rounding) + ',' +\n",
              "        d.source.x + ' ' + (d.target.y - options.edge_rounding) + ',' +\n",
              "        d.target.x + ' ' + d.target.y + ',' + d.target.x;\n",
              "  }\n",
              "\n",
              "  graph.append('g')\n",
              "      .attr('fill', 'none')\n",
              "      .attr('stroke-width', 1.2)\n",
              "      .selectAll('path')\n",
              "      .data(tree_struct.links())\n",
              "      .join('path')\n",
              "      .attr('d', draw_single_edge)\n",
              "      .attr(\n",
              "          'stroke', d => (d.target === d.source.children[0]) ? '#0F0' : '#F00');\n",
              "}\n",
              "\n",
              "display_tree({\"margin\": 10, \"node_x_size\": 160, \"node_y_size\": 28, \"node_x_offset\": 180, \"node_y_offset\": 33, \"font_size\": 10, \"edge_rounding\": 20, \"node_padding\": 2, \"show_plot_bounding_box\": false}, {\"value\": {\"type\": \"PROBABILITY\", \"distribution\": [0.5227602930870747, 0.4772397069129253], \"num_examples\": 478.8338456749916}, \"condition\": {\"type\": \"NUMERICAL_IS_HIGHER_THAN\", \"attribute\": \"FR\", \"threshold\": 2.7061350345611572}, \"children\": [{\"value\": {\"type\": \"PROBABILITY\", \"distribution\": [0.014929499065309356, 0.9850705009346906], \"num_examples\": 40.59683209657669}, \"condition\": {\"type\": \"NUMERICAL_IS_HIGHER_THAN\", \"attribute\": \"CC\", \"threshold\": 0.6739449501037598}, \"children\": [{\"value\": {\"type\": \"PROBABILITY\", \"distribution\": [0.050373132637029645, 0.9496268673629703], \"num_examples\": 12.032016575336456}}, {\"value\": {\"type\": \"PROBABILITY\", \"distribution\": [0.0, 1.0], \"num_examples\": 28.564815521240234}}]}, {\"value\": {\"type\": \"PROBABILITY\", \"distribution\": [0.569804063557375, 0.43019593644262494], \"num_examples\": 438.2370135784149}, \"condition\": {\"type\": \"NUMERICAL_IS_HIGHER_THAN\", \"attribute\": \"DI\", \"threshold\": 268.67132568359375}, \"children\": [{\"value\": {\"type\": \"PROBABILITY\", \"distribution\": [0.06605504369032043, 0.9339449563096796], \"num_examples\": 45.877675116062164}, \"condition\": {\"type\": \"NUMERICAL_IS_HIGHER_THAN\", \"attribute\": \"EL\", \"threshold\": 85.41004180908203}, \"children\": [{\"value\": {\"type\": \"PROBABILITY\", \"distribution\": [0.0, 1.0], \"num_examples\": 31.421297073364258}}, {\"value\": {\"type\": \"PROBABILITY\", \"distribution\": [0.20962732333445935, 0.7903726766655407], \"num_examples\": 14.456378042697906}}]}, {\"value\": {\"type\": \"PROBABILITY\", \"distribution\": [0.628706277951115, 0.371293722048885], \"num_examples\": 392.35933846235275}, \"condition\": {\"type\": \"NUMERICAL_IS_HIGHER_THAN\", \"attribute\": \"FL\", \"threshold\": 10.433052062988281}, \"children\": [{\"value\": {\"type\": \"PROBABILITY\", \"distribution\": [0.13424047737713196, 0.865759522622868], \"num_examples\": 85.7842373251915}, \"condition\": {\"type\": \"NUMERICAL_IS_HIGHER_THAN\", \"attribute\": \"EG\", \"threshold\": 1536.67919921875}, \"children\": [{\"value\": {\"type\": \"PROBABILITY\", \"distribution\": [0.5147759682895247, 0.48522403171047535], \"num_examples\": 17.66080015897751}, \"condition\": {\"type\": \"NUMERICAL_IS_HIGHER_THAN\", \"attribute\": \"DU\", \"threshold\": 5.414144992828369}, \"children\": [{\"value\": {\"type\": \"PROBABILITY\", \"distribution\": [0.17504051353296857, 0.8249594864670314], \"num_examples\": 10.387715756893158}}, {\"value\": {\"type\": \"PROBABILITY\", \"distribution\": [1.0, 0.0], \"num_examples\": 7.273084402084351}}]}, {\"value\": {\"type\": \"PROBABILITY\", \"distribution\": [0.03558777372677577, 0.9644122262732242], \"num_examples\": 68.12343716621399}, \"condition\": {\"type\": \"NUMERICAL_IS_HIGHER_THAN\", \"attribute\": \"DI\", \"threshold\": 161.6700439453125}, \"children\": [{\"value\": {\"type\": \"PROBABILITY\", \"distribution\": [0.17504051353296857, 0.8249594864670314], \"num_examples\": 10.387715756893158}}, {\"value\": {\"type\": \"PROBABILITY\", \"distribution\": [0.01049766681779983, 0.9895023331822002], \"num_examples\": 57.73572140932083}, \"condition\": {\"type\": \"NUMERICAL_IS_HIGHER_THAN\", \"attribute\": \"AM\", \"threshold\": 38.87199401855469}, \"children\": [{\"value\": {\"type\": \"PROBABILITY\", \"distribution\": [0.050373132637029645, 0.9496268673629703], \"num_examples\": 12.032016575336456}}, {\"value\": {\"type\": \"PROBABILITY\", \"distribution\": [0.0, 1.0], \"num_examples\": 45.703704833984375}}]}]}]}, {\"value\": {\"type\": \"PROBABILITY\", \"distribution\": [0.767065105619419, 0.23293489438058096], \"num_examples\": 306.57510113716125}, \"condition\": {\"type\": \"NUMERICAL_IS_HIGHER_THAN\", \"attribute\": \"DN\", \"threshold\": 25.685535430908203}, \"children\": [{\"value\": {\"type\": \"PROBABILITY\", \"distribution\": [0.9122565046685671, 0.08774349533143286], \"num_examples\": 130.21963810920715}, \"condition\": {\"type\": \"NUMERICAL_IS_HIGHER_THAN\", \"attribute\": \"CL\", \"threshold\": 1.1838901042938232}, \"children\": [{\"value\": {\"type\": \"PROBABILITY\", \"distribution\": [0.7376288591366423, 0.26237114086335767], \"num_examples\": 43.54871565103531}, \"condition\": {\"type\": \"NUMERICAL_IS_HIGHER_THAN\", \"attribute\": \"GB\", \"threshold\": 17.557525634765625}, \"children\": [{\"value\": {\"type\": \"PROBABILITY\", \"distribution\": [1.0, 0.0], \"num_examples\": 27.880156874656677}}, {\"value\": {\"type\": \"PROBABILITY\", \"distribution\": [0.2707736319870454, 0.7292263680129546], \"num_examples\": 15.668558776378632}, \"condition\": {\"type\": \"NUMERICAL_IS_HIGHER_THAN\", \"attribute\": \"CR\", \"threshold\": 0.7124437689781189}}]}, {\"value\": {\"type\": \"PROBABILITY\", \"distribution\": [1.0, 0.0], \"num_examples\": 86.67092245817184}}]}, {\"value\": {\"type\": \"PROBABILITY\", \"distribution\": [0.6598567939735663, 0.34014320602643366], \"num_examples\": 176.3554630279541}, \"condition\": {\"type\": \"NUMERICAL_IS_HIGHER_THAN\", \"attribute\": \"GB\", \"threshold\": 9.850817680358887}, \"children\": [{\"value\": {\"type\": \"PROBABILITY\", \"distribution\": [0.7044841291098977, 0.29551587089010234], \"num_examples\": 164.32344645261765}, \"condition\": {\"type\": \"NUMERICAL_IS_HIGHER_THAN\", \"attribute\": \"CD_\", \"threshold\": 76.54087829589844}, \"children\": [{\"value\": {\"type\": \"PROBABILITY\", \"distribution\": [0.5510898236834147, 0.44891017631658525], \"num_examples\": 89.0840614438057}, \"condition\": {\"type\": \"NUMERICAL_IS_HIGHER_THAN\", \"attribute\": \"EE\", \"threshold\": 2.638289451599121}}, {\"value\": {\"type\": \"PROBABILITY\", \"distribution\": [0.8861042703184187, 0.11389572968158135], \"num_examples\": 75.23938500881195}, \"condition\": {\"type\": \"NUMERICAL_IS_HIGHER_THAN\", \"attribute\": \"CR\", \"threshold\": 0.5598750114440918}}]}, {\"value\": {\"type\": \"PROBABILITY\", \"distribution\": [0.050373132637029645, 0.9496268673629703], \"num_examples\": 12.032016575336456}}]}]}]}]}]}, \"#tree_plot_6ebb97442a2f4804b9423a969832c8d9\")\n",
              "</script>\n"
            ]
          },
          "metadata": {},
          "execution_count": 21
        }
      ],
      "source": [
        "tfdf.model_plotter.plot_model_in_colab(models['fold_1'], tree_idx=0, max_depth=6)"
      ]
    },
    {
      "cell_type": "markdown",
      "id": "b8f81963",
      "metadata": {
        "papermill": {
          "duration": 0.015923,
          "end_time": "2023-06-05T10:07:41.571370",
          "exception": false,
          "start_time": "2023-06-05T10:07:41.555447",
          "status": "completed"
        },
        "tags": [],
        "id": "b8f81963"
      },
      "source": [
        "# Evaluating the model on the Out of bag (OOB) data and the validation dataset.\n",
        "\n",
        "Before training, we have manually seperated 20% of the dataset for validation named as `valid_ds`.\n",
        "\n",
        "We can also use Out of bag (OOB) score to validate our RandomForestModel.\n",
        "To train a Random Forest Model, a set of random samples from training set are choosen by the algorithm and the rest of the samples are used to finetune the model. The subset of data that is not chosen is known as Out of bag data (OOB).\n",
        "OOB score is computed on the OOB data.\n",
        "\n",
        "The training logs show the `binary_crossentropy` evaluated on the out of bag dataset according to the number of trees in the model. Let us plot this for the models of each fold.\n",
        "\n",
        "Note: Smaller values are better for this hyperparameter."
      ]
    },
    {
      "cell_type": "code",
      "execution_count": 22,
      "id": "4a63c788",
      "metadata": {
        "execution": {
          "iopub.execute_input": "2023-06-05T10:07:41.606531Z",
          "iopub.status.busy": "2023-06-05T10:07:41.606190Z",
          "iopub.status.idle": "2023-06-05T10:07:42.411918Z",
          "shell.execute_reply": "2023-06-05T10:07:42.409789Z"
        },
        "papermill": {
          "duration": 0.826421,
          "end_time": "2023-06-05T10:07:42.414531",
          "exception": false,
          "start_time": "2023-06-05T10:07:41.588110",
          "status": "completed"
        },
        "tags": [],
        "colab": {
          "base_uri": "https://localhost:8080/",
          "height": 872
        },
        "id": "4a63c788",
        "outputId": "6acc3108-407a-4fed-c0f7-77e692307972"
      },
      "outputs": [
        {
          "output_type": "display_data",
          "data": {
            "text/plain": [
              "<Figure size 1000x1000 with 6 Axes>"
            ],
            "image/png": "[encoded data removed]"
          },
          "metadata": {}
        }
      ],
      "source": [
        "figure, axis = plt.subplots(3, 2, figsize=(10, 10))\n",
        "plt.subplots_adjust(hspace=0.5, wspace=0.3)\n",
        "\n",
        "for i, fold_no in enumerate(models.keys()):\n",
        "    row = i//2\n",
        "    col = i % 2\n",
        "    logs = models[fold_no].make_inspector().training_logs()\n",
        "    axis[row, col].plot([log.num_trees for log in logs], [log.evaluation.loss for log in logs])\n",
        "    axis[row, col].set_title(f\"Fold {i+1}\")\n",
        "    axis[row, col].set_xlabel('Number of trees')\n",
        "    axis[row, col].set_ylabel('Loss (out-of-bag)')\n",
        "\n",
        "axis[2][1].set_visible(False)\n",
        "plt.show()"
      ]
    },
    {
      "cell_type": "markdown",
      "id": "c672ed97",
      "metadata": {
        "papermill": {
          "duration": 0.016909,
          "end_time": "2023-06-05T10:07:42.448588",
          "exception": false,
          "start_time": "2023-06-05T10:07:42.431679",
          "status": "completed"
        },
        "tags": [],
        "id": "c672ed97"
      },
      "source": [
        "We can also see some general stats on the OOB dataset:"
      ]
    },
    {
      "cell_type": "code",
      "execution_count": 23,
      "id": "20c6dcb9",
      "metadata": {
        "execution": {
          "iopub.execute_input": "2023-06-05T10:07:42.487313Z",
          "iopub.status.busy": "2023-06-05T10:07:42.486898Z",
          "iopub.status.idle": "2023-06-05T10:07:42.503092Z",
          "shell.execute_reply": "2023-06-05T10:07:42.501065Z"
        },
        "papermill": {
          "duration": 0.038262,
          "end_time": "2023-06-05T10:07:42.505631",
          "exception": false,
          "start_time": "2023-06-05T10:07:42.467369",
          "status": "completed"
        },
        "tags": [],
        "colab": {
          "base_uri": "https://localhost:8080/"
        },
        "id": "20c6dcb9",
        "outputId": "771c51e5-bddb-42f3-8a52-f2649c94b57b"
      },
      "outputs": [
        {
          "output_type": "stream",
          "name": "stdout",
          "text": [
            "fold_1 Evaluation(num_examples=493, accuracy=0.83384120423487, loss=0.4011864148867133, rmse=None, ndcg=None, aucs=None, auuc=None, qini=None)\n",
            "fold_2 Evaluation(num_examples=493, accuracy=0.86791143186256, loss=0.374230902610848, rmse=None, ndcg=None, aucs=None, auuc=None, qini=None)\n",
            "fold_3 Evaluation(num_examples=494, accuracy=0.8625237360976467, loss=0.39912028399338717, rmse=None, ndcg=None, aucs=None, auuc=None, qini=None)\n",
            "fold_4 Evaluation(num_examples=494, accuracy=0.8742180068903357, loss=0.38689070260817593, rmse=None, ndcg=None, aucs=None, auuc=None, qini=None)\n",
            "fold_5 Evaluation(num_examples=494, accuracy=0.8477430594687857, loss=0.39049966583287166, rmse=None, ndcg=None, aucs=None, auuc=None, qini=None)\n"
          ]
        }
      ],
      "source": [
        "for _model in models:\n",
        "    inspector = models[_model].make_inspector()\n",
        "    print(_model, inspector.evaluation())"
      ]
    },
    {
      "cell_type": "markdown",
      "id": "1e075c8f",
      "metadata": {
        "papermill": {
          "duration": 0.016889,
          "end_time": "2023-06-05T10:07:42.540152",
          "exception": false,
          "start_time": "2023-06-05T10:07:42.523263",
          "status": "completed"
        },
        "tags": [],
        "id": "1e075c8f"
      },
      "source": [
        "Now, let us check the evaluation metrics for each fold and its average value."
      ]
    },
    {
      "cell_type": "code",
      "execution_count": 24,
      "id": "b1eb9e8a",
      "metadata": {
        "execution": {
          "iopub.execute_input": "2023-06-05T10:07:42.578206Z",
          "iopub.status.busy": "2023-06-05T10:07:42.577840Z",
          "iopub.status.idle": "2023-06-05T10:07:42.583977Z",
          "shell.execute_reply": "2023-06-05T10:07:42.583019Z"
        },
        "papermill": {
          "duration": 0.0284,
          "end_time": "2023-06-05T10:07:42.586702",
          "exception": false,
          "start_time": "2023-06-05T10:07:42.558302",
          "status": "completed"
        },
        "tags": [],
        "colab": {
          "base_uri": "https://localhost:8080/"
        },
        "id": "b1eb9e8a",
        "outputId": "b881286d-881f-4397-d0cd-fa17ae4493db"
      },
      "outputs": [
        {
          "output_type": "stream",
          "name": "stdout",
          "text": [
            "fold_1: acc: 0.9516 loss: 0.2182\n",
            "fold_2: acc: 0.8790 loss: 0.2608\n",
            "fold_3: acc: 0.9024 loss: 0.2741\n",
            "fold_4: acc: 0.9024 loss: 0.2717\n",
            "fold_5: acc: 0.9512 loss: 0.2172\n",
            "\n",
            "Average accuracy: 0.9173  Average loss: 0.2484\n"
          ]
        }
      ],
      "source": [
        "average_loss = 0\n",
        "average_acc = 0\n",
        "\n",
        "for _model in  models:\n",
        "    average_loss += cross_entropy[_model]\n",
        "    average_acc += accuracy[_model]\n",
        "    print(f\"{_model}: acc: {accuracy[_model]:.4f} loss: {cross_entropy[_model]:.4f}\")\n",
        "\n",
        "print(f\"\\nAverage accuracy: {average_acc/5:.4f}  Average loss: {average_loss/5:.4f}\")"
      ]
    },
    {
      "cell_type": "markdown",
      "id": "fe337a2d",
      "metadata": {
        "papermill": {
          "duration": 0.016172,
          "end_time": "2023-06-05T10:07:42.619965",
          "exception": false,
          "start_time": "2023-06-05T10:07:42.603793",
          "status": "completed"
        },
        "tags": [],
        "id": "fe337a2d"
      },
      "source": [
        "## Variable importances\n",
        "\n",
        "Variable importances generally indicate how much a feature contributes to the model predictions or quality. There are several ways to identify important features using TensorFlow Decision Forests. Let us pick one model from models dict and inspect it.\n",
        "\n",
        "Let us list the available `Variable Importances` for Decision Trees:"
      ]
    },
    {
      "cell_type": "code",
      "execution_count": 25,
      "id": "a7bf7857",
      "metadata": {
        "execution": {
          "iopub.execute_input": "2023-06-05T10:07:42.657300Z",
          "iopub.status.busy": "2023-06-05T10:07:42.656957Z",
          "iopub.status.idle": "2023-06-05T10:07:42.667086Z",
          "shell.execute_reply": "2023-06-05T10:07:42.665739Z"
        },
        "papermill": {
          "duration": 0.031159,
          "end_time": "2023-06-05T10:07:42.669265",
          "exception": false,
          "start_time": "2023-06-05T10:07:42.638106",
          "status": "completed"
        },
        "tags": [],
        "colab": {
          "base_uri": "https://localhost:8080/"
        },
        "id": "a7bf7857",
        "outputId": "22979b52-fcf7-424d-b331-bde678d14b7a"
      },
      "outputs": [
        {
          "output_type": "stream",
          "name": "stdout",
          "text": [
            "Available variable importances:\n",
            "\t SUM_SCORE\n",
            "\t NUM_AS_ROOT\n",
            "\t NUM_NODES\n",
            "\t INV_MEAN_MIN_DEPTH\n"
          ]
        }
      ],
      "source": [
        "inspector = models['fold_1'].make_inspector()\n",
        "\n",
        "print(f\"Available variable importances:\")\n",
        "for importance in inspector.variable_importances().keys():\n",
        "  print(\"\\t\", importance)"
      ]
    },
    {
      "cell_type": "markdown",
      "id": "e7eb6fe4",
      "metadata": {
        "papermill": {
          "duration": 0.0184,
          "end_time": "2023-06-05T10:07:42.705094",
          "exception": false,
          "start_time": "2023-06-05T10:07:42.686694",
          "status": "completed"
        },
        "tags": [],
        "id": "e7eb6fe4"
      },
      "source": [
        "As an example, let us display the important features for the Variable Importance `NUM_AS_ROOT`.\n",
        "\n",
        "The larger the importance score for `NUM_AS_ROOT`, the more impact it has on the outcome of the model.\n",
        "\n",
        "By default, the list is sorted from the most important to the least. From the output you can infer that the feature at the top of the list is used as the root node in most number of trees in the random forest than any other feature."
      ]
    },
    {
      "cell_type": "code",
      "execution_count": 26,
      "id": "b2854e2e",
      "metadata": {
        "execution": {
          "iopub.execute_input": "2023-06-05T10:07:42.741880Z",
          "iopub.status.busy": "2023-06-05T10:07:42.741472Z",
          "iopub.status.idle": "2023-06-05T10:07:42.749400Z",
          "shell.execute_reply": "2023-06-05T10:07:42.748440Z"
        },
        "papermill": {
          "duration": 0.028851,
          "end_time": "2023-06-05T10:07:42.751331",
          "exception": false,
          "start_time": "2023-06-05T10:07:42.722480",
          "status": "completed"
        },
        "tags": [],
        "colab": {
          "base_uri": "https://localhost:8080/"
        },
        "id": "b2854e2e",
        "outputId": "9b753a0a-68d3-48ed-9a9c-b464c8017970"
      },
      "outputs": [
        {
          "output_type": "execute_result",
          "data": {
            "text/plain": [
              "[(\"DU\" (1; #32), 47.0),\n",
              " (\"DI\" (1; #29), 25.0),\n",
              " (\"DA\" (1; #25), 21.0),\n",
              " (\"AB\" (1; #0), 19.0),\n",
              " (\"FL\" (1; #47), 19.0),\n",
              " (\"GL\" (1; #55), 18.0),\n",
              " (\"BQ\" (1; #12), 16.0),\n",
              " (\"CR\" (1; #21), 16.0),\n",
              " (\"FD_\" (1; #44), 16.0),\n",
              " (\"CD_\" (1; #17), 14.0),\n",
              " (\"AF\" (1; #1), 13.0),\n",
              " (\"CC\" (1; #16), 8.0),\n",
              " (\"DF\" (1; #27), 7.0),\n",
              " (\"AR\" (1; #4), 6.0),\n",
              " (\"DH\" (1; #28), 6.0),\n",
              " (\"EB\" (1; #35), 6.0),\n",
              " (\"FI\" (1; #46), 6.0),\n",
              " (\"BC\" (1; #8), 5.0),\n",
              " (\"EH\" (1; #38), 5.0),\n",
              " (\"FR\" (1; #48), 5.0),\n",
              " (\"DE\" (1; #26), 4.0),\n",
              " (\"DL\" (1; #30), 4.0),\n",
              " (\"EE\" (1; #36), 4.0),\n",
              " (\"FE\" (1; #45), 4.0),\n",
              " (\"EU\" (1; #42), 3.0),\n",
              " (\"BN\" (1; #10), 2.0),\n",
              " (\"EL\" (1; #40), 1.0)]"
            ]
          },
          "metadata": {},
          "execution_count": 26
        }
      ],
      "source": [
        "# Each line is: (feature name, (index of the feature), importance score)\n",
        "inspector.variable_importances()[\"NUM_AS_ROOT\"]"
      ]
    },
    {
      "cell_type": "markdown",
      "id": "cacfd997",
      "metadata": {
        "papermill": {
          "duration": 0.017155,
          "end_time": "2023-06-05T10:07:42.785633",
          "exception": false,
          "start_time": "2023-06-05T10:07:42.768478",
          "status": "completed"
        },
        "tags": [],
        "id": "cacfd997"
      },
      "source": [
        "# Predicting"
      ]
    },
    {
      "cell_type": "code",
      "execution_count": 27,
      "id": "c3f990dc",
      "metadata": {
        "execution": {
          "iopub.execute_input": "2023-06-05T10:07:42.822000Z",
          "iopub.status.busy": "2023-06-05T10:07:42.821592Z",
          "iopub.status.idle": "2023-06-05T10:07:43.009099Z",
          "shell.execute_reply": "2023-06-05T10:07:43.007350Z"
        },
        "papermill": {
          "duration": 0.20889,
          "end_time": "2023-06-05T10:07:43.011937",
          "exception": false,
          "start_time": "2023-06-05T10:07:42.803047",
          "status": "completed"
        },
        "tags": [],
        "colab": {
          "base_uri": "https://localhost:8080/"
        },
        "id": "c3f990dc",
        "outputId": "71442c8c-7b1e-485e-e8c3-12d14c0b0073"
      },
      "outputs": [
        {
          "output_type": "stream",
          "name": "stdout",
          "text": [
            "Warning: Some of the feature names have been changed automatically to be compatible with SavedModels because fix_feature_names=True.\n"
          ]
        },
        {
          "output_type": "stream",
          "name": "stderr",
          "text": [
            "WARNING:absl:Some of the feature names have been changed automatically to be compatible with SavedModels because fix_feature_names=True.\n"
          ]
        },
        {
          "output_type": "stream",
          "name": "stdout",
          "text": [
            "1/1 [==============================] - 0s 254ms/step\n",
            "[[0.65333357, 0.34666643], [0.65333357, 0.34666643], [0.65333357, 0.34666643], [0.65333357, 0.34666643], [0.65333357, 0.34666643]]\n"
          ]
        }
      ],
      "source": [
        "test_df = pd.read_csv(\"/content/drive/MyDrive/Dataset/Identifying_Age_Related_Conditions/test.csv\")\n",
        "test_ds_pd = test_df\n",
        "test_df_columns = test_ds_pd.columns.tolist()\n",
        "TEST_FEATURE_COLUMNS = [i for i in FEATURE_COLUMNS \\\n",
        "                        if i in test_df_columns and i != \"Class\"]\n",
        "test_ds_pd = test_ds_pd[TEST_FEATURE_COLUMNS]\n",
        "test_ds = tfdf.keras.pd_dataframe_to_tf_dataset(test_ds_pd)\n",
        "predictions = models['fold_1'].predict(test_ds)\n",
        "n_predictions= [[round(abs(i-1), 8), i] for i in predictions.ravel()]\n",
        "print(n_predictions)"
      ]
    }
  ],
  "metadata": {
    "kernelspec": {
      "display_name": "Python 3",
      "language": "python",
      "name": "python3"
    },
    "language_info": {
      "codemirror_mode": {
        "name": "ipython",
        "version": 3
      },
      "file_extension": ".py",
      "mimetype": "text/x-python",
      "name": "python",
      "nbconvert_exporter": "python",
      "pygments_lexer": "ipython3",
      "version": "3.10.10"
    },
    "papermill": {
      "default_parameters": {},
      "duration": 71.390601,
      "end_time": "2023-06-05T10:07:45.711132",
      "environment_variables": {},
      "exception": null,
      "input_path": "__notebook__.ipynb",
      "output_path": "__notebook__.ipynb",
      "parameters": {},
      "start_time": "2023-06-05T10:06:34.320531",
      "version": "2.4.0"
    },
    "colab": {
      "provenance": [],
      "include_colab_link": true
    }
  },
  "nbformat": 4,
  "nbformat_minor": 5
}